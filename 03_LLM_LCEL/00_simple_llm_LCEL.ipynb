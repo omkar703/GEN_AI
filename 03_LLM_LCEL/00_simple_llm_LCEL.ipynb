{
 "cells": [
  {
   "cell_type": "markdown",
   "id": "a0e3c4c6",
   "metadata": {},
   "source": [
    "    # Build a Simple LLm Application with LCEL - Langchain expression Language -> chain component together\n",
    "\n",
    "    in this quickstart we'll show you how to build a simple LLM application with Langchain , here it translate english to some other languages. This is relatively simple LLM model single LLM plus some prompting , "
   ]
  },
  {
   "cell_type": "code",
   "execution_count": null,
   "id": "7b52d5e3",
   "metadata": {},
   "outputs": [],
   "source": [
    "## Open AI api and Open source model -> llama3,gemma2,mistral ---> Groq , Lpu\n",
    "\n",
    "import os\n",
    "from dotenv import load_dotenv\n",
    "load_dotenv()\n",
    "\n",
    "\n",
    "groq_api_key = os.getenv(\"GROQ_API_KEY\")"
   ]
  },
  {
   "cell_type": "code",
   "execution_count": 2,
   "id": "893f9ed4",
   "metadata": {},
   "outputs": [
    {
     "data": {
      "text/plain": [
       "ChatGroq(client=<groq.resources.chat.completions.Completions object at 0x7960ac9fb010>, async_client=<groq.resources.chat.completions.AsyncCompletions object at 0x7960ac9f8b50>, model_name='deepseek-r1-distill-llama-70b', model_kwargs={}, groq_api_key=SecretStr('**********'))"
      ]
     },
     "execution_count": 2,
     "metadata": {},
     "output_type": "execute_result"
    }
   ],
   "source": [
    "from langchain_groq import ChatGroq\n",
    "\n",
    "model = ChatGroq(\n",
    "    model=\"deepseek-r1-distill-llama-70b\",\n",
    "    api_key=groq_api_key,\n",
    ")\n",
    "\n",
    "model"
   ]
  },
  {
   "cell_type": "code",
   "execution_count": 9,
   "id": "f00e87ed",
   "metadata": {},
   "outputs": [],
   "source": [
    "from langchain_core.messages import HumanMessage\n",
    "from langchain_core.messages import SystemMessage\n",
    "\n",
    "messages = [\n",
    "    SystemMessage(content = \" Translate the following English text to French:\"),\n",
    "    HumanMessage(content=\"I love programming in Python. It is a versatile language that is great for data science and web development.\"),\n",
    "]\n",
    "\n",
    "result = model.invoke(messages)\n"
   ]
  },
  {
   "cell_type": "code",
   "execution_count": 10,
   "id": "e1fc031c",
   "metadata": {},
   "outputs": [
    {
     "name": "stdout",
     "output_type": "stream",
     "text": [
      "<think>\n",
      "Okay, I need to translate this English text into French. Let me read it again: \"I love programming in Python. It is a versatile language that is great for data science and web development.\"\n",
      "\n",
      "First, I'll break it down sentence by sentence. The first sentence is \"I love programming in Python.\" In French, \"I love\" is \"J'adore.\" \"Programming\" becomes \"la programmation.\" \"In Python\" is \"en Python.\" So putting that together, it should be \"J'adore la programmation en Python.\"\n",
      "\n",
      "Next sentence: \"It is a versatile language that is great for data science and web development.\" \"It is\" translates to \"C'est.\" \"A versatile language\" is \"un langage polyvalent.\" \"That is great for\" would be \"qui est excellent pour.\" \"Data science\" is \"la science des données,\" and \"web development\" is \"le développement web.\" So the second sentence becomes \"C'est un langage polyvalent qui est excellent pour la science des données et le développement web.\"\n",
      "\n",
      "Now, putting both sentences together, I get: \"J'adore la programmation en Python. C'est un langage polyvalent qui est excellent pour la science des données et le développement web.\"\n",
      "\n",
      "I should double-check some terms to make sure they're accurate. \"Versatile\" is indeed \"polyvalent\" in this context. \"Data science\" is commonly referred to as \"la science des données\" in French. \"Web development\" translates accurately to \"le développement web.\" \n",
      "\n",
      "I think that covers everything. The translation flows well and accurately conveys the original meaning.\n",
      "</think>\n",
      "\n",
      "J'adore la programmation en Python. C'est un langage polyvalent qui est excellent pour la science des données et le développement web.\n"
     ]
    }
   ],
   "source": [
    "from langchain_core.output_parsers import StrOutputParser\n",
    "parser = StrOutputParser()\n",
    "result = parser.invoke(result)\n",
    "print(result)"
   ]
  },
  {
   "cell_type": "code",
   "execution_count": 11,
   "id": "c50c6325",
   "metadata": {},
   "outputs": [
    {
     "data": {
      "text/plain": [
       "'<think>\\nOkay, so I need to translate this English sentence into French. Let me look at the first part: \"I love programming in Python.\" The word \"I love\" in French is \"J\\'adore.\" \"Programming\" translates to \"la programmation.\" So putting that together, it would be \"J\\'adore la programmation en Python.\" That makes sense.\\n\\nNext part: \"It is a versatile language that is great for data science and web development.\" \"It is\" is \"C\\'est\" in French. \"A versatile language\" would be \"un langage polyvalent.\" The phrase \"that is great for\" translates to \"qui est excellent pour.\" Now, \"data science\" is \"la science des données\" and \"web development\" is \"le développement web.\" Putting that all together: \"C\\'est un langage polyvalent qui est excellent pour la science des données et le développement web.\"\\n\\nLet me double-check the grammar. Using \"qui est excellent pour\" seems correct because it\\'s describing the language\\'s suitability. Also, \"la science des données\" is the accurate term for data science. \"Le développement web\" is the right term for web development. Everything seems to flow well and make sense in French. I think that\\'s a solid translation.\\n</think>\\n\\nJ\\'adore la programmation en Python. C\\'est un langage polyvalent qui est excellent pour la science des données et le développement web.'"
      ]
     },
     "execution_count": 11,
     "metadata": {},
     "output_type": "execute_result"
    }
   ],
   "source": [
    "## Using LCEL - Chain the components \n",
    "\n",
    "chain = model | parser\n",
    "chain.invoke(messages)"
   ]
  },
  {
   "cell_type": "code",
   "execution_count": 12,
   "id": "3382fef4",
   "metadata": {},
   "outputs": [],
   "source": [
    "# Instde of this we can use prompt templates \n",
    "from langchain_core.prompts import ChatPromptTemplate\n",
    "\n",
    "generic_template = \"Translate the following into {language} :\"\n",
    "\n",
    "prompt = ChatPromptTemplate.from_messages([\n",
    "    (\"system\", generic_template),\n",
    "    (\"user\", \"{text}\"),\n",
    "])"
   ]
  },
  {
   "cell_type": "code",
   "execution_count": 14,
   "id": "f5f11d27",
   "metadata": {},
   "outputs": [],
   "source": [
    "result = prompt.invoke({\n",
    "    \"language\": \"French\",\n",
    "    \"text\": \"I love programming in Python. It is a versatile language that is great for data science and web development.\",\n",
    "})"
   ]
  },
  {
   "cell_type": "code",
   "execution_count": 16,
   "id": "2a35ba95",
   "metadata": {},
   "outputs": [
    {
     "data": {
      "text/plain": [
       "[SystemMessage(content='Translate the following into French :', additional_kwargs={}, response_metadata={}),\n",
       " HumanMessage(content='I love programming in Python. It is a versatile language that is great for data science and web development.', additional_kwargs={}, response_metadata={})]"
      ]
     },
     "execution_count": 16,
     "metadata": {},
     "output_type": "execute_result"
    }
   ],
   "source": [
    "result.to_messages()"
   ]
  },
  {
   "cell_type": "code",
   "execution_count": 17,
   "id": "e07ddcc5",
   "metadata": {},
   "outputs": [],
   "source": [
    "chain = prompt | model | parser\n",
    "respond = chain.invoke({\n",
    "    \"language\": \"French\",\n",
    "    \"text\": \"I love programming in Python. It is a versatile language that is great for data science and web development.\",\n",
    "})"
   ]
  },
  {
   "cell_type": "code",
   "execution_count": 18,
   "id": "7ef5b1a0",
   "metadata": {},
   "outputs": [
    {
     "data": {
      "text/plain": [
       "\"<think>\\n\\n</think>\\n\\nJ'adore programmer en Python. C'est un langage polyvalent, idéal pour la science des données et le développement web.\""
      ]
     },
     "execution_count": 18,
     "metadata": {},
     "output_type": "execute_result"
    }
   ],
   "source": [
    "respond"
   ]
  }
 ],
 "metadata": {
  "kernelspec": {
   "display_name": "mlenv",
   "language": "python",
   "name": "python3"
  },
  "language_info": {
   "codemirror_mode": {
    "name": "ipython",
    "version": 3
   },
   "file_extension": ".py",
   "mimetype": "text/x-python",
   "name": "python",
   "nbconvert_exporter": "python",
   "pygments_lexer": "ipython3",
   "version": "3.10.16"
  }
 },
 "nbformat": 4,
 "nbformat_minor": 5
}
