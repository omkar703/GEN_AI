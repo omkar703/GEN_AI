{
 "cells": [
  {
   "cell_type": "code",
   "execution_count": null,
   "id": "84d5d224",
   "metadata": {},
   "outputs": [],
   "source": [
    "import streamlit as st\n",
    "from langchain_groq import ChatGroq\n",
    "from langchain_community.utilities import ArxivAPIWrapper , WikipediaAPIWrapper\n",
    "from langchain_community.tools import ArxivQueryRun , WikipediaQueryRun , DuckDuckGoSearchRun\n",
    "from langchain.agents import initialize_agent,AgentType\n",
    "from langchain.callbacks import StreamlitCallbackHandler # it will allow tools to communcicate with each other \n",
    "import os \n",
    "from dotenv import load_dotenv\n",
    "\n",
    "\n",
    "api_wraper_wiki = WikipediaAPIWrapper(top_k_results=1,doc_content_chars_max=250)\n",
    "wiki = WikipediaQueryRun(api_wrapper=api_wraper_wiki)\n",
    "\n",
    "\n",
    "api_wraper_arxiv = ArxivAPIWrapper(top_k_results=1,doc_content_chars_max=250)\n",
    "arxiv = ArxivQueryRun(api_wrapper = api_wraper_arxiv)\n",
    "\n",
    "search = DuckDuckGoSearchRun(name = 'Search')\n",
    "\n",
    "\n",
    "st.title(\" langchain - Chat with Search \")\n",
    "'''\n",
    "here we use StreamlitcallbackHandler to display the thoughts and actions in an interactive streamlit app\n",
    "'''\n",
    "# sidebar for settings\n",
    "\n",
    "st.sidebar.title(\"Settings\")\n",
    "api_key = st.sidebar.text_input(\"Enter your Groq API key\" ,type=\"password\")\n",
    "\n",
    "\n",
    "if \"messages\" not in st.session_state:\n",
    "    st.session_state['messages'] = [\n",
    "        {\"role\":'assisstant',\n",
    "         \"content\":\"Hi , I'm chatbot who can search the web . How can I help you ?\"}\n",
    "    ]\n",
    "\n",
    "for msg in st.session_state.messages:\n",
    "    st.chat_message(msg['role']).write(msg['content'])\n",
    "\n",
    "if prompt := st.chat_input(placeholder = \"What is machine learning ?\") :\n",
    "    st.session_state.messages.append({\"role\":'user',\"content\":prompt})\n",
    "    st.chat_message(\"user\").write(prompt)\n",
    "\n",
    "    llm = ChatGroq(api_key=api_key , model_name = \"Llama3-8b-8192\" , streaming=True)\n",
    "\n",
    "    tools = [search,wiki,arxiv]\n",
    "\n",
    "    search_agent = initialize_agent(tools,llm,agent=AgentType.ZERO_SHOT_REACT_DESCRIPTION,handling_parsing_errors=True)\n",
    "\n",
    "    with st.chat_message(\"assistant\"):\n",
    "        st_cb = StreamlitCallbackHandler(st.container(),expand_new_thoughts=False)\n",
    "        response = search_agent.run(st.session_state.messages,callbacks=[st_cb])\n",
    "        st.session_state.messages.append({\"role\":'assistant',\"content\":response})\n",
    "        st.write(response)"
   ]
  }
 ],
 "metadata": {
  "kernelspec": {
   "display_name": "mlenv",
   "language": "python",
   "name": "python3"
  },
  "language_info": {
   "codemirror_mode": {
    "name": "ipython",
    "version": 3
   },
   "file_extension": ".py",
   "mimetype": "text/x-python",
   "name": "python",
   "nbconvert_exporter": "python",
   "pygments_lexer": "ipython3",
   "version": "3.10.16"
  }
 },
 "nbformat": 4,
 "nbformat_minor": 5
}
