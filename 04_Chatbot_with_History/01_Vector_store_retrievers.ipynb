{
 "cells": [
  {
   "cell_type": "markdown",
   "id": "abe69e0a",
   "metadata": {},
   "source": [
    "    ## Vector Store and Retrievers\n",
    "\n",
    "    ##### Vector store and retriervers abstractions \n",
    "    abstractions are designed to support retrieval of data from a vector store and other source fro integration of LLM they are important for applications that fetch data to be reasoned over as part of model inference \n",
    "\n",
    "    we will cover :\n",
    "    documents \n",
    "    vector store \n",
    "    Retrievers "
   ]
  },
  {
   "cell_type": "markdown",
   "id": "b2bfec17",
   "metadata": {},
   "source": [
    "## Documents \n",
    "Langchain implements a Document abstration , which is intended to represent a unit of text and associated metadata , it has two attributes :\n",
    "\n",
    "- page_content: The text content of the document.\n",
    "- metadata: A dictionary of metadata associated with the document. source , relation with other documents , etc."
   ]
  },
  {
   "cell_type": "code",
   "execution_count": 5,
   "id": "1e90ff39",
   "metadata": {},
   "outputs": [
    {
     "data": {
      "text/plain": [
       "ChatGroq(client=<groq.resources.chat.completions.Completions object at 0x79141694ea70>, async_client=<groq.resources.chat.completions.AsyncCompletions object at 0x791416984d00>, model_name='llama-guard-3-8b', model_kwargs={}, groq_api_key=SecretStr('**********'))"
      ]
     },
     "execution_count": 5,
     "metadata": {},
     "output_type": "execute_result"
    }
   ],
   "source": [
    "from langchain_core.documents import Document\n",
    "\n",
    "documents = [\n",
    "    Document (\n",
    "    page_content=\"Dogs are great companions, known for their loyalty and friendliness.\",\n",
    "    metadata={\"source\": \"mammal-pets-doc\"},\n",
    "\n",
    "    ),\n",
    "\n",
    "    Document (\n",
    "    page_content=\"Cats are independent pets that often enjoy their own space.\",\n",
    "    metadata={\"source\": \"mammal-pets-doc\"},\n",
    "\n",
    "    ),\n",
    "\n",
    "    Document (\n",
    "\n",
    "    page_content=\"Parrots are intelligent birds capable of mimicking human speech.\",\n",
    "    metadata={\"source\": \"bird-pets-doc\"},\n",
    "\n",
    "    ),\n",
    "    Document (\n",
    "        page_content = \"Rabbits are social animals that need plenty of space to hop around.\",\n",
    "        metadata = {\"source\": \"mammal-pets-doc\"},\n",
    "    )\n",
    "\n",
    "]\n",
    "\n",
    "## Vectorstore \n",
    "import os\n",
    "from dotenv import load_dotenv\n",
    "load_dotenv()\n",
    "from langchain_chroma import Chroma\n",
    "groq_api_key = os.getenv(\"GROQ_API_KEY\")\n",
    "os.environ['HF_TOKEN'] = os.getenv(\"HF_TOKEN\")\n",
    "from langchain_groq import ChatGroq\n",
    "\n",
    "llm = ChatGroq(\n",
    "    model=\"llama-guard-3-8b\",\n",
    "    api_key=groq_api_key,\n",
    ")\n",
    "\n",
    "llm"
   ]
  },
  {
   "cell_type": "code",
   "execution_count": 6,
   "id": "f753be78",
   "metadata": {},
   "outputs": [
    {
     "name": "stderr",
     "output_type": "stream",
     "text": [
      "/home/omkar/anaconda3/envs/mlenv/lib/python3.10/site-packages/tqdm/auto.py:21: TqdmWarning: IProgress not found. Please update jupyter and ipywidgets. See https://ipywidgets.readthedocs.io/en/stable/user_install.html\n",
      "  from .autonotebook import tqdm as notebook_tqdm\n",
      "2025-05-31 12:44:43.877351: E external/local_xla/xla/stream_executor/cuda/cuda_fft.cc:467] Unable to register cuFFT factory: Attempting to register factory for plugin cuFFT when one has already been registered\n",
      "WARNING: All log messages before absl::InitializeLog() is called are written to STDERR\n",
      "E0000 00:00:1748675684.001061   60378 cuda_dnn.cc:8579] Unable to register cuDNN factory: Attempting to register factory for plugin cuDNN when one has already been registered\n",
      "E0000 00:00:1748675684.028808   60378 cuda_blas.cc:1407] Unable to register cuBLAS factory: Attempting to register factory for plugin cuBLAS when one has already been registered\n",
      "W0000 00:00:1748675684.271123   60378 computation_placer.cc:177] computation placer already registered. Please check linkage and avoid linking the same target more than once.\n",
      "W0000 00:00:1748675684.271160   60378 computation_placer.cc:177] computation placer already registered. Please check linkage and avoid linking the same target more than once.\n",
      "W0000 00:00:1748675684.271162   60378 computation_placer.cc:177] computation placer already registered. Please check linkage and avoid linking the same target more than once.\n",
      "W0000 00:00:1748675684.271163   60378 computation_placer.cc:177] computation placer already registered. Please check linkage and avoid linking the same target more than once.\n",
      "2025-05-31 12:44:44.295505: I tensorflow/core/platform/cpu_feature_guard.cc:210] This TensorFlow binary is optimized to use available CPU instructions in performance-critical operations.\n",
      "To enable the following instructions: AVX2 FMA, in other operations, rebuild TensorFlow with the appropriate compiler flags.\n"
     ]
    }
   ],
   "source": [
    "from langchain_huggingface import HuggingFaceEmbeddings\n",
    "embeddings = HuggingFaceEmbeddings(\n",
    "    model_name=\"sentence-transformers/all-MiniLM-L6-v2\",\n",
    "    model_kwargs={\"device\": \"cuda\"},\n",
    ")"
   ]
  },
  {
   "cell_type": "code",
   "execution_count": 7,
   "id": "f608345b",
   "metadata": {},
   "outputs": [
    {
     "data": {
      "text/plain": [
       "<langchain_chroma.vectorstores.Chroma at 0x79129b2c1cc0>"
      ]
     },
     "execution_count": 7,
     "metadata": {},
     "output_type": "execute_result"
    }
   ],
   "source": [
    "## Vectorstore\n",
    "vectorstore = Chroma.from_documents(documents, embeddings)\n",
    "vectorstore"
   ]
  },
  {
   "cell_type": "code",
   "execution_count": 9,
   "id": "cc47770a",
   "metadata": {},
   "outputs": [
    {
     "data": {
      "text/plain": [
       "[Document(id='145a8659-10f7-456f-abcf-f54d7ee5490d', metadata={'source': 'mammal-pets-doc'}, page_content='Dogs are great companions, known for their loyalty and friendliness.'),\n",
       " Document(id='b5f66477-6e68-42dc-b4fb-ab822e702589', metadata={'source': 'mammal-pets-doc'}, page_content='Cats are independent pets that often enjoy their own space.')]"
      ]
     },
     "execution_count": 9,
     "metadata": {},
     "output_type": "execute_result"
    }
   ],
   "source": [
    "vectorstore.similarity_search(\n",
    "    \"What are some good pets?\",\n",
    "    k=2,\n",
    "\n",
    ")"
   ]
  },
  {
   "cell_type": "code",
   "execution_count": 10,
   "id": "7812f240",
   "metadata": {},
   "outputs": [
    {
     "data": {
      "text/plain": [
       "[Document(id='145a8659-10f7-456f-abcf-f54d7ee5490d', metadata={'source': 'mammal-pets-doc'}, page_content='Dogs are great companions, known for their loyalty and friendliness.'),\n",
       " Document(id='b5f66477-6e68-42dc-b4fb-ab822e702589', metadata={'source': 'mammal-pets-doc'}, page_content='Cats are independent pets that often enjoy their own space.')]"
      ]
     },
     "execution_count": 10,
     "metadata": {},
     "output_type": "execute_result"
    }
   ],
   "source": [
    "## Async Query \n",
    "await vectorstore.asimilarity_search(\n",
    "    \"What are some good pets?\",\n",
    "    k=2,\n",
    ")"
   ]
  },
  {
   "cell_type": "code",
   "execution_count": 11,
   "id": "9fbc4179",
   "metadata": {},
   "outputs": [
    {
     "data": {
      "text/plain": [
       "[(Document(id='145a8659-10f7-456f-abcf-f54d7ee5490d', metadata={'source': 'mammal-pets-doc'}, page_content='Dogs are great companions, known for their loyalty and friendliness.'),\n",
       "  0.9567375183105469),\n",
       " (Document(id='b5f66477-6e68-42dc-b4fb-ab822e702589', metadata={'source': 'mammal-pets-doc'}, page_content='Cats are independent pets that often enjoy their own space.'),\n",
       "  1.2338745594024658)]"
      ]
     },
     "execution_count": 11,
     "metadata": {},
     "output_type": "execute_result"
    }
   ],
   "source": [
    "vectorstore.similarity_search_with_score(\n",
    "    \"What are some good pets?\",\n",
    "    k=2,\n",
    "\n",
    ")"
   ]
  },
  {
   "cell_type": "code",
   "execution_count": 12,
   "id": "d9fe0f00",
   "metadata": {},
   "outputs": [],
   "source": [
    "## Retrivers \n",
    "## langchain vectorstore objects do not subclass runable and so can not immediately be integrated into langchain expression language chain \n",
    "\n",
    "# langchain retriever are runnables so they implement a standard set of methods (sync and async) and are designed to be incorporated in LCEL chains \n",
    "\n",
    "# we can create a simple version of this ourselves without subclassing if we choose what method we wish to use to retrieve documents we can create a runnable easily bellow we will build one around the similarity search mehthod :"
   ]
  },
  {
   "cell_type": "code",
   "execution_count": 14,
   "id": "fd80d5a4",
   "metadata": {},
   "outputs": [
    {
     "data": {
      "text/plain": [
       "[[Document(id='b5f66477-6e68-42dc-b4fb-ab822e702589', metadata={'source': 'mammal-pets-doc'}, page_content='Cats are independent pets that often enjoy their own space.')],\n",
       " [Document(id='145a8659-10f7-456f-abcf-f54d7ee5490d', metadata={'source': 'mammal-pets-doc'}, page_content='Dogs are great companions, known for their loyalty and friendliness.')],\n",
       " [Document(id='52bb7393-d876-4ed5-88e8-1f1a9fc96ea3', metadata={'source': 'bird-pets-doc'}, page_content='Parrots are intelligent birds capable of mimicking human speech.')]]"
      ]
     },
     "execution_count": 14,
     "metadata": {},
     "output_type": "execute_result"
    }
   ],
   "source": [
    "from typing import List \n",
    "from langchain_core.documents import Document\n",
    "from langchain_core.runnables import RunnableLambda\n",
    "\n",
    "\n",
    "retriever = RunnableLambda(vectorstore.similarity_search).bind(k=1)\n",
    "retriever.batch([\"cat\", \"dog\", \"parrot\"])"
   ]
  },
  {
   "cell_type": "markdown",
   "id": "0dd19a74",
   "metadata": {},
   "source": [
    "Vectorstores implement an as retriever method that will generate a Retriever specifically a vectrostoreReriever . These retrivers include specific search_type and search_kwargs attributes that identify what methods of the underlying vector store to call and hwo to parameterize them for instace we can replicate the above with the following "
   ]
  },
  {
   "cell_type": "code",
   "execution_count": 16,
   "id": "c1612406",
   "metadata": {},
   "outputs": [
    {
     "data": {
      "text/plain": [
       "[[Document(id='b5f66477-6e68-42dc-b4fb-ab822e702589', metadata={'source': 'mammal-pets-doc'}, page_content='Cats are independent pets that often enjoy their own space.')],\n",
       " [Document(id='145a8659-10f7-456f-abcf-f54d7ee5490d', metadata={'source': 'mammal-pets-doc'}, page_content='Dogs are great companions, known for their loyalty and friendliness.')],\n",
       " [Document(id='52bb7393-d876-4ed5-88e8-1f1a9fc96ea3', metadata={'source': 'bird-pets-doc'}, page_content='Parrots are intelligent birds capable of mimicking human speech.')]]"
      ]
     },
     "execution_count": 16,
     "metadata": {},
     "output_type": "execute_result"
    }
   ],
   "source": [
    "retriever = vectorstore.as_retriever(\n",
    "    search_type=\"similarity\",\n",
    "    search_kwargs={\"k\": 1},\n",
    ")\n",
    "\n",
    "retriever.batch([\"cat\", \"dog\", \"parrot\"])"
   ]
  },
  {
   "cell_type": "code",
   "execution_count": 23,
   "id": "d1182369",
   "metadata": {},
   "outputs": [
    {
     "name": "stdout",
     "output_type": "stream",
     "text": [
      "content='safe' additional_kwargs={} response_metadata={'token_usage': {'completion_tokens': 2, 'prompt_tokens': 198, 'total_tokens': 200, 'completion_time': 0.002003453, 'prompt_time': 0.00500896, 'queue_time': 0.24739444900000002, 'total_time': 0.007012413}, 'model_name': 'llama-guard-3-8b', 'system_fingerprint': 'fp_60081290c2', 'finish_reason': 'stop', 'logprobs': None} id='run--6d63630e-9b5a-4f32-a673-e400956cfa96-0' usage_metadata={'input_tokens': 198, 'output_tokens': 2, 'total_tokens': 200}\n"
     ]
    },
    {
     "data": {
      "text/plain": [
       "'safe'"
      ]
     },
     "execution_count": 23,
     "metadata": {},
     "output_type": "execute_result"
    }
   ],
   "source": [
    "from langchain_core.prompts import ChatPromptTemplate\n",
    "from langchain_core.runnables import RunnablePassthrough\n",
    "\n",
    "message =\"\"\"\n",
    "Answer this question using the provided context only.\n",
    "\n",
    "{question}\n",
    "\n",
    "Context:\n",
    "{context}\n",
    "\n",
    "\"\"\"\n",
    "\n",
    "prompt = ChatPromptTemplate.from_messages(\n",
    "    [\n",
    "        (\"system\", \"You are a helpful assistant.\"),\n",
    "        (\"human\", message),\n",
    "        (\"ai\", \"Sure, here is the answer to your question.\"),\n",
    "    ]\n",
    ")\n",
    "\n",
    "rag_chain = {\n",
    "    \"context\": retriever, \n",
    "    \"question\": RunnablePassthrough(),\n",
    "} | prompt | llm\n",
    "\n",
    "response = rag_chain.invoke( \"tell me about dogs\" )\n",
    "print(response)\n",
    "response.content"
   ]
  },
  {
   "cell_type": "code",
   "execution_count": null,
   "id": "c900763a",
   "metadata": {},
   "outputs": [],
   "source": []
  },
  {
   "cell_type": "code",
   "execution_count": null,
   "id": "facee708",
   "metadata": {},
   "outputs": [],
   "source": []
  }
 ],
 "metadata": {
  "kernelspec": {
   "display_name": "mlenv",
   "language": "python",
   "name": "python3"
  },
  "language_info": {
   "codemirror_mode": {
    "name": "ipython",
    "version": 3
   },
   "file_extension": ".py",
   "mimetype": "text/x-python",
   "name": "python",
   "nbconvert_exporter": "python",
   "pygments_lexer": "ipython3",
   "version": "3.10.16"
  }
 },
 "nbformat": 4,
 "nbformat_minor": 5
}
