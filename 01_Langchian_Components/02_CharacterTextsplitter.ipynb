{
 "cells": [
  {
   "cell_type": "markdown",
   "id": "af91d015",
   "metadata": {},
   "source": [
    "    # Character text splitter \n",
    "    the is simple method of splitting text into smaller chunks based on a specific character.\n",
    "\n",
    "    \"\\n\\n\" is the default character used by the character text splitter. This means that the text splitter will split the text into chunks based on the newline character.\n",
    "\n",
    "    How the text is split : by single character separator\n",
    "    How the chunk size is measured : by number of characters"
   ]
  },
  {
   "cell_type": "code",
   "execution_count": 1,
   "id": "89e691df",
   "metadata": {},
   "outputs": [],
   "source": [
    "## Text loader\n",
    "\n",
    "from langchain_community.document_loaders import TextLoader\n",
    "loader = TextLoader(\"speech.txt\" , encoding=\"utf-8\")\n",
    "test_doc = loader.load()"
   ]
  },
  {
   "cell_type": "code",
   "execution_count": 2,
   "id": "e23ac0d2",
   "metadata": {},
   "outputs": [
    {
     "name": "stderr",
     "output_type": "stream",
     "text": [
      "Created a chunk of size 121, which is longer than the specified 100\n",
      "Created a chunk of size 213, which is longer than the specified 100\n",
      "Created a chunk of size 274, which is longer than the specified 100\n",
      "Created a chunk of size 525, which is longer than the specified 100\n",
      "Created a chunk of size 303, which is longer than the specified 100\n",
      "Created a chunk of size 318, which is longer than the specified 100\n",
      "Created a chunk of size 238, which is longer than the specified 100\n",
      "Created a chunk of size 392, which is longer than the specified 100\n",
      "Created a chunk of size 430, which is longer than the specified 100\n",
      "Created a chunk of size 294, which is longer than the specified 100\n",
      "Created a chunk of size 280, which is longer than the specified 100\n",
      "Created a chunk of size 238, which is longer than the specified 100\n",
      "Created a chunk of size 413, which is longer than the specified 100\n",
      "Created a chunk of size 283, which is longer than the specified 100\n",
      "Created a chunk of size 194, which is longer than the specified 100\n",
      "Created a chunk of size 465, which is longer than the specified 100\n",
      "Created a chunk of size 347, which is longer than the specified 100\n",
      "Created a chunk of size 407, which is longer than the specified 100\n",
      "Created a chunk of size 709, which is longer than the specified 100\n",
      "Created a chunk of size 215, which is longer than the specified 100\n",
      "Created a chunk of size 375, which is longer than the specified 100\n",
      "Created a chunk of size 668, which is longer than the specified 100\n",
      "Created a chunk of size 661, which is longer than the specified 100\n",
      "Created a chunk of size 306, which is longer than the specified 100\n",
      "Created a chunk of size 176, which is longer than the specified 100\n",
      "Created a chunk of size 184, which is longer than the specified 100\n",
      "Created a chunk of size 129, which is longer than the specified 100\n",
      "Created a chunk of size 595, which is longer than the specified 100\n",
      "Created a chunk of size 343, which is longer than the specified 100\n"
     ]
    },
    {
     "data": {
      "text/plain": [
       "[Document(metadata={'source': 'speech.txt'}, page_content=\"Emma Watson posing in front of UN Women's 'HeForShe' sign.\\nRobin Marchant / Getty Images\\nSocial Sciences\\nSocial Sciences\"),\n",
       " Document(metadata={'source': 'speech.txt'}, page_content='Sociology\\n        News & Issues\\n        Key Concepts\\n        Major Sociologists\\n        Research, Samples, and Statistics\\n        Recommended Reading\\n    Psychology\\n    Archaeology\\n    Economics\\n    Ergonomics'),\n",
       " Document(metadata={'source': 'speech.txt'}, page_content='By Nicki Lisa Cole, Ph.D.\\nUpdated on June 07, 2024\\nKey Takeaways'),\n",
       " Document(metadata={'source': 'speech.txt'}, page_content=\"Emma Watson launched the HeForShe initiative to include men in the fight for gender equality.\\n    Watson emphasized changing harmful stereotypes of masculinity for true gender equality.\\n    Watson's speech received both praise and criticism for its approach to feminism.\"),\n",
       " Document(metadata={'source': 'speech.txt'}, page_content='On Sep. 20, 2014, British actress and Goodwill Ambassador for U.N. Women Emma Watson gave a smart, important, and moving speech about gender inequality and how to fight it. In doing so, she launched the HeForShe initiative, which aims to get men and boys to join the feminist fight for gender equality. In the speech, Watson made the important point that in order for gender equality to be achieved, harmful and destructive stereotypes of masculinity and behavioral expectations for boys and men have got to change.\\nBiography'),\n",
       " Document(metadata={'source': 'speech.txt'}, page_content='Emma Watson is a British actress and model born in 1990, who is best known for her 10-year stint as Hermione Granger in the eight \"Harry Potter\" movies. Born in Paris, France to a pair of now-divorced British lawyers, she made a reported $60 million for playing Granger in the eight Harry Potter films.1'),\n",
       " Document(metadata={'source': 'speech.txt'}, page_content='Watson began taking acting classes at six years of age and was selected for the \"Harry Potter\" cast in 2001 at age nine. She attended the Dragon School in Oxford, and then the Headington private girls\\' school. Eventually, she received a bachelor\\'s degree in English literature at Brown University in the United States.'),\n",
       " Document(metadata={'source': 'speech.txt'}, page_content='Watson has been actively involved in humanitarian causes for several years, working to promote fair trade and organic clothing, and as an ambassador for CAMFED International, a movement to educate girls in rural Africa.\\nCelebrity Feminism'),\n",
       " Document(metadata={'source': 'speech.txt'}, page_content='Watson is one of several women in the arts who have leveraged their high profile status to bring women\\'s rights issues to the public eye. The list includes Jennifer Lawrence, Patricia Arquette, Rose McGowan, Annie Lennox, Beyonce, Carmen Maura, Taylor Swift, Lena Dunham, Katy Perry, Kelly Clarkson, Lady Gaga, and Shailene Woodley, although some have refused to self-identify as \"feminists.\"'),\n",
       " Document(metadata={'source': 'speech.txt'}, page_content='These women have been both celebrated and criticized for the positions they have taken; the term \"celebrity feminist\" is sometimes used to denigrate their credentials or question their authenticity, but there is no doubt that their championships of different causes have shed public light into myriad issues.\\nThe U.N. and HeForShe\\nEmma Watson seated in the UN for the HeForShe Campaign Launch.\\nEduardo Munoz Alvarez / Getty Images'),\n",
       " Document(metadata={'source': 'speech.txt'}, page_content=\"In 2014, Watson was named a U.N. Women Goodwill Ambassador by the United Nations, a program that actively involves prominent personalities in the fields of arts and sports to promote U.N. programs. Her role is to serve as an advocate for U.N. Women's gender equality campaign known as HeForShe.\"),\n",
       " Document(metadata={'source': 'speech.txt'}, page_content=\"HeForShe, led by the U.N.'s Elizabeth Nyamayaro and under the direction of Sima Bahous, is a program dedicated to improving the status of women and inviting men and boys around the world to stand in solidarity with women and girls as they make that make gender equality a reality.\"),\n",
       " Document(metadata={'source': 'speech.txt'}, page_content=\"The speech at the United Nations was part of her official role as U.N. Women Goodwill Ambassador. Below is the full transcript of her 13-minute speech; after that is a discussion of the speech's reception.\\nEmma Watson's Speech at the U.N.\"),\n",
       " Document(metadata={'source': 'speech.txt'}, page_content='Today we are launching a campaign called HeForShe. I am reaching out to you because we need your help. We want to end gender inequality, and to do this, we need everyone involved. This is the first campaign of its kind at the UN. We want to try to mobilize as many men and boys as possible to be advocates for change. And, we don’t just want to talk about it. We want to try and make sure that it’s tangible.'),\n",
       " Document(metadata={'source': 'speech.txt'}, page_content='I was appointed as Goodwill Ambassador for UN Women six months ago. And, the more I spoke about feminism, the more I realized that fighting for women’s rights has too often become synonymous with man-hating. If there is one thing I know for certain, it is that this has to stop.'),\n",
       " Document(metadata={'source': 'speech.txt'}, page_content='For the record, feminism by definition is the belief that men and women should have equal rights and opportunities. It is the theory of political, economic and social equality of the sexes.'),\n",
       " Document(metadata={'source': 'speech.txt'}, page_content='I started questioning gender-based assumptions a long time ago. When I was 8, I was confused for being called bossy because I wanted to direct the plays that we would put on for our parents, but the boys were not. When at 14, I started to be sexualized by certain elements of the media. When at 15, my girlfriends started dropping out of sports teams because they didn’t want to appear muscly. When at 18, my male friends were unable to express their feelings.'),\n",
       " Document(metadata={'source': 'speech.txt'}, page_content='I decided that I was a feminist, and this seemed uncomplicated to me. But my recent research has shown me that feminism has become an unpopular word. Women are choosing not to identify as feminists. Apparently, I’m among the ranks of women whose expressions are seen as too strong, too aggressive, isolating, and anti-men. Unattractive, even.'),\n",
       " Document(metadata={'source': 'speech.txt'}, page_content='Why has the word become such an uncomfortable one? I am from Britain, and I think it is right I am paid the same as my male counterparts. I think it is right that I should be able to make decisions about my own body. I think it is right that women be involved on my behalf in the policies and decisions that will affect my life. I think it is right that socially, I am afforded the same respect as men.'),\n",
       " Document(metadata={'source': 'speech.txt'}, page_content='But sadly, I can say that there is no one country in the world where all women can expect to see these rights. No country in the world can yet say that they achieved gender equality. These rights, I consider to be human rights but I am one of the lucky ones. My life is a sheer privilege because my parents didn’t love me less because I was born a daughter. My school did not limit me because I was a girl. My mentors didn’t assume I would go less far because I might give birth to a child one day. These influencers were the gender equality ambassadors that made me who I am today. They may not know it, but they are the inadvertent feminists who are changing the world today. And we need more of those.'),\n",
       " Document(metadata={'source': 'speech.txt'}, page_content='And if you still hate the word, it is not the word that is important. It’s the idea and the ambition behind it, because not all women have received the same rights I have. In fact, statistically, very few have.'),\n",
       " Document(metadata={'source': 'speech.txt'}, page_content='In 1995, Hillary Clinton made a famous speech in Beijing about women’s rights. Sadly, many of the things that she wanted to change are still true today. But what stood out for me the most was that less than thirty percent of the audience were male. How can we effect change in the world when only half of it is invited or feel welcome to participate in the conversation?'),\n",
       " Document(metadata={'source': 'speech.txt'}, page_content='Men, I would like to take this opportunity to extend your formal invitation. Gender equality is your issue, too. Because to date, I’ve seen my father’s role as a parent being valued less by society, despite my need of his presence as a child, as much as my mother’s. I’ve seen young men suffering from mental illness, unable to ask for help for fear it would make them less of a man. In fact, in the UK, suicide is the biggest killer of men between 20 to 49, eclipsing road accidents, cancer and coronary heart disease. I’ve seen men made fragile and insecure by a distorted sense of what constitutes male success. Men don’t have the benefits of equality, either.'),\n",
       " Document(metadata={'source': 'speech.txt'}, page_content='We don’t often talk about men being imprisoned by gender stereotypes, but I can see that they are, and that when they are free, things will change for women as a natural consequence. If men don’t have to be aggressive in order to be accepted, women won’t feel compelled to be submissive. Both men and women should feel free to be sensitive. Both men and women should feel free to be strong. It is time that we all perceive gender on a spectrum, instead of two sets of opposing ideals. If we stop defining each other by what we are not, and start defining ourselves by who we are, we can all be freer, and this is what HeForShe is about. It’s about freedom.'),\n",
       " Document(metadata={'source': 'speech.txt'}, page_content='I want men to take up this mantle so that their daughters, sisters, and mothers can be free from prejudice, but also so that their sons have permission to be vulnerable and human too, reclaim those parts of themselves they abandoned, and in doing so, be a more true and complete version of themselves.'),\n",
       " Document(metadata={'source': 'speech.txt'}, page_content='You might be thinking, “Who is this Harry Potter girl, and what is she doing speaking at the UN?” And, it’s a really good question. I’ve been asking myself the same thing.'),\n",
       " Document(metadata={'source': 'speech.txt'}, page_content='All I know is that I care about this problem, and I want to make it better. And, having seen what I’ve seen, and given the chance, I feel it is my responsibility to say something.'),\n",
       " Document(metadata={'source': 'speech.txt'}, page_content='Statesman Edmund Burke said, “All that is needed for the forces of evil to triumph is for good men and women to do nothing.”'),\n",
       " Document(metadata={'source': 'speech.txt'}, page_content='In my nervousness for this speech and in my moments of doubt, I told myself firmly, “If not me, who? If not now, when?” If you have similar doubts when opportunities are presented to you, I hope those words will be helpful. Because the reality is that if we do nothing, it will take seventy-five years, or for me to be nearly 100 before women can expect to be paid the same as men for the same work. 15.5 million girls will be married in the next 16 years as children. And at current rates it won’t be until 2086 before all rural African girls will be able to receive a secondary education.'),\n",
       " Document(metadata={'source': 'speech.txt'}, page_content='If you believe in equality, you might be one of those inadvertent feminists that I spoke of earlier, and for this, I applaud you. We are struggling for a uniting word, but the good news is, we have a uniting movement. It is called HeForShe. I invite you to step forward, to be seen and to ask yourself, “If not me, who? If not now, when?”'),\n",
       " Document(metadata={'source': 'speech.txt'}, page_content='Thank you very, very much.')]"
      ]
     },
     "execution_count": 2,
     "metadata": {},
     "output_type": "execute_result"
    }
   ],
   "source": [
    "from langchain.text_splitter import CharacterTextSplitter\n",
    "\n",
    "text_splitter = CharacterTextSplitter(separator=\"\\n\\n\", chunk_size=100, chunk_overlap=20)\n",
    "text_splitter.split_documents(test_doc)\n"
   ]
  },
  {
   "cell_type": "code",
   "execution_count": null,
   "id": "c1e3892f",
   "metadata": {},
   "outputs": [],
   "source": []
  }
 ],
 "metadata": {
  "kernelspec": {
   "display_name": "mlenv",
   "language": "python",
   "name": "python3"
  },
  "language_info": {
   "codemirror_mode": {
    "name": "ipython",
    "version": 3
   },
   "file_extension": ".py",
   "mimetype": "text/x-python",
   "name": "python",
   "nbconvert_exporter": "python",
   "pygments_lexer": "ipython3",
   "version": "3.10.16"
  }
 },
 "nbformat": 4,
 "nbformat_minor": 5
}
