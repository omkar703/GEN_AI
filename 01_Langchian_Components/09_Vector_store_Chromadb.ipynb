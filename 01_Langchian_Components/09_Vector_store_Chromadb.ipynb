{
 "cells": [
  {
   "cell_type": "markdown",
   "id": "234195c8",
   "metadata": {},
   "source": [
    "# ChromaDB"
   ]
  },
  {
   "cell_type": "markdown",
   "id": "cc0f00a5",
   "metadata": {},
   "source": [
    "chroma is a AI-native open-source vector database for storing, querying, and managing embeddings."
   ]
  },
  {
   "cell_type": "code",
   "execution_count": 2,
   "id": "d7cb1c73",
   "metadata": {},
   "outputs": [],
   "source": [
    "## building a simple vectordb\n",
    "from langchain_chroma import Chroma\n",
    "from langchain_community.document_loaders import TextLoader\n",
    "from langchain_community.embeddings import OllamaEmbeddings\n",
    "from langchain.text_splitter import CharacterTextSplitter"
   ]
  },
  {
   "cell_type": "code",
   "execution_count": 3,
   "id": "15baee52",
   "metadata": {},
   "outputs": [],
   "source": [
    "text  = TextLoader(\"speech.txt\").load()\n",
    "text_splitter = CharacterTextSplitter(chunk_size=1000, chunk_overlap=20)\n",
    "docs =  text_splitter.split_documents(text)"
   ]
  },
  {
   "cell_type": "code",
   "execution_count": 4,
   "id": "ea532ffc",
   "metadata": {},
   "outputs": [
    {
     "data": {
      "text/plain": [
       "[Document(metadata={'source': 'speech.txt'}, page_content='Today we are launching a campaign called HeForShe. I am reaching out to you because we need your help. We want to end gender inequality, and to do this, we need everyone involved. This is the first campaign of its kind at the UN. We want to try to mobilize as many men and boys as possible to be advocates for change. And, we don’t just want to talk about it. We want to try and make sure that it’s tangible. \\n\\nI was appointed as Goodwill Ambassador for UN Women six months ago. And, the more I spoke about feminism, the more I realized that fighting for women’s rights has too often become synonymous with man-hating. If there is one thing I know for certain, it is that this has to stop. \\n\\nFor the record, feminism by definition is the belief that men and women should have equal rights and opportunities. It is the theory of political, economic and social equality of the sexes.'),\n",
       " Document(metadata={'source': 'speech.txt'}, page_content='I started questioning gender-based assumptions a long time ago. When I was 8, I was confused for being called bossy because I wanted to direct the plays that we would put on for our parents, but the boys were not. When at 14, I started to be sexualized by certain elements of the media. When at 15, my girlfriends started dropping out of sports teams because they didn’t want to appear muscly. When at 18, my male friends were unable to express their feelings. \\n\\nI decided that I was a feminist, and this seemed uncomplicated to me. But my recent research has shown me that feminism has become an unpopular word. Women are choosing not to identify as feminists. Apparently, I’m among the ranks of women whose expressions are seen as too strong, too aggressive, isolating, and anti-men. Unattractive, even.'),\n",
       " Document(metadata={'source': 'speech.txt'}, page_content='Why has the word become such an uncomfortable one? I am from Britain, and I think it is right I am paid the same as my male counterparts. I think it is right that I should be able to make decisions about my own body. I think it is right that women be involved on my behalf in the policies and decisions that will affect my life. I think it is right that socially, I am afforded the same respect as men.'),\n",
       " Document(metadata={'source': 'speech.txt'}, page_content='But sadly, I can say that there is no one country in the world where all women can expect to see these rights. No country in the world can yet say that they achieved gender equality. These rights, I consider to be human rights but I am one of the lucky ones. My life is a sheer privilege because my parents didn’t love me less because I was born a daughter. My school did not limit me because I was a girl. My mentors didn’t assume I would go less far because I might give birth to a child one day. These influencers were the gender equality ambassadors that made me who I am today. They may not know it, but they are the inadvertent feminists who are changing the world today. And we need more of those. \\n\\nAnd if you still hate the word, it is not the word that is important. It’s the idea and the ambition behind it, because not all women have received the same rights I have. In fact, statistically, very few have.'),\n",
       " Document(metadata={'source': 'speech.txt'}, page_content='In 1995, Hillary Clinton made a famous speech in Beijing about women’s rights. Sadly, many of the things that she wanted to change are still true today. But what stood out for me the most was that less than thirty percent of the audience were male. How can we effect change in the world when only half of it is invited or feel welcome to participate in the conversation?'),\n",
       " Document(metadata={'source': 'speech.txt'}, page_content='Men, I would like to take this opportunity to extend your formal invitation. Gender equality is your issue, too. Because to date, I’ve seen my father’s role as a parent being valued less by society, despite my need of his presence as a child, as much as my mother’s. I’ve seen young men suffering from mental illness, unable to ask for help for fear it would make them less of a man. In fact, in the UK, suicide is the biggest killer of men between 20 to 49, eclipsing road accidents, cancer and coronary heart disease. I’ve seen men made fragile and insecure by a distorted sense of what constitutes male success. Men don’t have the benefits of equality, either.'),\n",
       " Document(metadata={'source': 'speech.txt'}, page_content='We don’t often talk about men being imprisoned by gender stereotypes, but I can see that they are, and that when they are free, things will change for women as a natural consequence. If men don’t have to be aggressive in order to be accepted, women won’t feel compelled to be submissive. Both men and women should feel free to be sensitive. Both men and women should feel free to be strong. It is time that we all perceive gender on a spectrum, instead of two sets of opposing ideals. If we stop defining each other by what we are not, and start defining ourselves by who we are, we can all be freer, and this is what HeForShe is about. It’s about freedom. \\n\\nI want men to take up this mantle so that their daughters, sisters, and mothers can be free from prejudice, but also so that their sons have permission to be vulnerable and human too, reclaim those parts of themselves they abandoned, and in doing so, be a more true and complete version of themselves.'),\n",
       " Document(metadata={'source': 'speech.txt'}, page_content='You might be thinking, “Who is this Harry Potter girl, and what is she doing speaking at the UN?” And, it’s a really good question. I’ve been asking myself the same thing. \\n\\nAll I know is that I care about this problem, and I want to make it better. And, having seen what I’ve seen, and given the chance, I feel it is my responsibility to say something. \\n\\nStatesman Edmund Burke said, “All that is needed for the forces of evil to triumph is for good men and women to do nothing.”'),\n",
       " Document(metadata={'source': 'speech.txt'}, page_content='In my nervousness for this speech and in my moments of doubt, I told myself firmly, “If not me, who? If not now, when?” If you have similar doubts when opportunities are presented to you, I hope those words will be helpful. Because the reality is that if we do nothing, it will take seventy-five years, or for me to be nearly 100 before women can expect to be paid the same as men for the same work. 15.5 million girls will be married in the next 16 years as children. And at current rates it won’t be until 2086 before all rural African girls will be able to receive a secondary education. \\n\\nIf you believe in equality, you might be one of those inadvertent feminists that I spoke of earlier, and for this, I applaud you. We are struggling for a uniting word, but the good news is, we have a uniting movement. It is called HeForShe. I invite you to step forward, to be seen and to ask yourself, “If not me, who? If not now, when?” \\n\\nThank you very, very much.')]"
      ]
     },
     "execution_count": 4,
     "metadata": {},
     "output_type": "execute_result"
    }
   ],
   "source": [
    "docs"
   ]
  },
  {
   "cell_type": "code",
   "execution_count": 7,
   "id": "7098323d",
   "metadata": {},
   "outputs": [],
   "source": [
    "embeddings = OllamaEmbeddings(model=\"mxbai-embed-large:latest\")\n",
    "vectordb = Chroma.from_documents(\n",
    "    documents=docs,\n",
    "    embedding=embeddings,\n",
    "    persist_directory=\"vectordb\"\n",
    ")"
   ]
  },
  {
   "cell_type": "code",
   "execution_count": 8,
   "id": "5934f667",
   "metadata": {},
   "outputs": [
    {
     "data": {
      "text/plain": [
       "<langchain_chroma.vectorstores.Chroma at 0x778de13b34c0>"
      ]
     },
     "execution_count": 8,
     "metadata": {},
     "output_type": "execute_result"
    }
   ],
   "source": [
    "vectordb"
   ]
  },
  {
   "cell_type": "code",
   "execution_count": 9,
   "id": "a08a2fd6",
   "metadata": {},
   "outputs": [
    {
     "data": {
      "text/plain": [
       "[Document(id='c37cffd5-9f41-40b5-bafa-f1010439330c', metadata={'source': 'speech.txt'}, page_content='I started questioning gender-based assumptions a long time ago. When I was 8, I was confused for being called bossy because I wanted to direct the plays that we would put on for our parents, but the boys were not. When at 14, I started to be sexualized by certain elements of the media. When at 15, my girlfriends started dropping out of sports teams because they didn’t want to appear muscly. When at 18, my male friends were unable to express their feelings. \\n\\nI decided that I was a feminist, and this seemed uncomplicated to me. But my recent research has shown me that feminism has become an unpopular word. Women are choosing not to identify as feminists. Apparently, I’m among the ranks of women whose expressions are seen as too strong, too aggressive, isolating, and anti-men. Unattractive, even.'),\n",
       " Document(id='b923394f-814b-4ed7-a868-6ec2ae8e5e2b', metadata={'source': 'speech.txt'}, page_content='Why has the word become such an uncomfortable one? I am from Britain, and I think it is right I am paid the same as my male counterparts. I think it is right that I should be able to make decisions about my own body. I think it is right that women be involved on my behalf in the policies and decisions that will affect my life. I think it is right that socially, I am afforded the same respect as men.'),\n",
       " Document(id='6993cc1d-7a5f-4ae3-8824-00a79876affb', metadata={'source': 'speech.txt'}, page_content='Men, I would like to take this opportunity to extend your formal invitation. Gender equality is your issue, too. Because to date, I’ve seen my father’s role as a parent being valued less by society, despite my need of his presence as a child, as much as my mother’s. I’ve seen young men suffering from mental illness, unable to ask for help for fear it would make them less of a man. In fact, in the UK, suicide is the biggest killer of men between 20 to 49, eclipsing road accidents, cancer and coronary heart disease. I’ve seen men made fragile and insecure by a distorted sense of what constitutes male success. Men don’t have the benefits of equality, either.'),\n",
       " Document(id='bd2b5287-f897-4c19-9d35-846a37bbcc93', metadata={'source': 'speech.txt'}, page_content='We don’t often talk about men being imprisoned by gender stereotypes, but I can see that they are, and that when they are free, things will change for women as a natural consequence. If men don’t have to be aggressive in order to be accepted, women won’t feel compelled to be submissive. Both men and women should feel free to be sensitive. Both men and women should feel free to be strong. It is time that we all perceive gender on a spectrum, instead of two sets of opposing ideals. If we stop defining each other by what we are not, and start defining ourselves by who we are, we can all be freer, and this is what HeForShe is about. It’s about freedom. \\n\\nI want men to take up this mantle so that their daughters, sisters, and mothers can be free from prejudice, but also so that their sons have permission to be vulnerable and human too, reclaim those parts of themselves they abandoned, and in doing so, be a more true and complete version of themselves.')]"
      ]
     },
     "execution_count": 9,
     "metadata": {},
     "output_type": "execute_result"
    }
   ],
   "source": [
    "## Query it \n",
    "## querying\n",
    "\n",
    "query = \"When her male friends were unable to express their feelings ?\"\n",
    "result = vectordb.similarity_search(query)\n",
    "result"
   ]
  },
  {
   "cell_type": "code",
   "execution_count": 10,
   "id": "3195b766",
   "metadata": {},
   "outputs": [
    {
     "data": {
      "text/plain": [
       "'I started questioning gender-based assumptions a long time ago. When I was 8, I was confused for being called bossy because I wanted to direct the plays that we would put on for our parents, but the boys were not. When at 14, I started to be sexualized by certain elements of the media. When at 15, my girlfriends started dropping out of sports teams because they didn’t want to appear muscly. When at 18, my male friends were unable to express their feelings. \\n\\nI decided that I was a feminist, and this seemed uncomplicated to me. But my recent research has shown me that feminism has become an unpopular word. Women are choosing not to identify as feminists. Apparently, I’m among the ranks of women whose expressions are seen as too strong, too aggressive, isolating, and anti-men. Unattractive, even.'"
      ]
     },
     "execution_count": 10,
     "metadata": {},
     "output_type": "execute_result"
    }
   ],
   "source": [
    "result[0].page_content"
   ]
  },
  {
   "cell_type": "code",
   "execution_count": 11,
   "id": "c9f03dcd",
   "metadata": {},
   "outputs": [
    {
     "data": {
      "text/plain": [
       "<langchain_chroma.vectorstores.Chroma at 0x778de13b2dd0>"
      ]
     },
     "execution_count": 11,
     "metadata": {},
     "output_type": "execute_result"
    }
   ],
   "source": [
    "## load from disk \n",
    "db2 = Chroma(persist_directory=\"vectordb\", embedding_function=embeddings)\n",
    "db2"
   ]
  },
  {
   "cell_type": "code",
   "execution_count": 12,
   "id": "67775196",
   "metadata": {},
   "outputs": [
    {
     "data": {
      "text/plain": [
       "[Document(id='c37cffd5-9f41-40b5-bafa-f1010439330c', metadata={'source': 'speech.txt'}, page_content='I started questioning gender-based assumptions a long time ago. When I was 8, I was confused for being called bossy because I wanted to direct the plays that we would put on for our parents, but the boys were not. When at 14, I started to be sexualized by certain elements of the media. When at 15, my girlfriends started dropping out of sports teams because they didn’t want to appear muscly. When at 18, my male friends were unable to express their feelings. \\n\\nI decided that I was a feminist, and this seemed uncomplicated to me. But my recent research has shown me that feminism has become an unpopular word. Women are choosing not to identify as feminists. Apparently, I’m among the ranks of women whose expressions are seen as too strong, too aggressive, isolating, and anti-men. Unattractive, even.'),\n",
       " Document(id='b923394f-814b-4ed7-a868-6ec2ae8e5e2b', metadata={'source': 'speech.txt'}, page_content='Why has the word become such an uncomfortable one? I am from Britain, and I think it is right I am paid the same as my male counterparts. I think it is right that I should be able to make decisions about my own body. I think it is right that women be involved on my behalf in the policies and decisions that will affect my life. I think it is right that socially, I am afforded the same respect as men.'),\n",
       " Document(id='6993cc1d-7a5f-4ae3-8824-00a79876affb', metadata={'source': 'speech.txt'}, page_content='Men, I would like to take this opportunity to extend your formal invitation. Gender equality is your issue, too. Because to date, I’ve seen my father’s role as a parent being valued less by society, despite my need of his presence as a child, as much as my mother’s. I’ve seen young men suffering from mental illness, unable to ask for help for fear it would make them less of a man. In fact, in the UK, suicide is the biggest killer of men between 20 to 49, eclipsing road accidents, cancer and coronary heart disease. I’ve seen men made fragile and insecure by a distorted sense of what constitutes male success. Men don’t have the benefits of equality, either.'),\n",
       " Document(id='bd2b5287-f897-4c19-9d35-846a37bbcc93', metadata={'source': 'speech.txt'}, page_content='We don’t often talk about men being imprisoned by gender stereotypes, but I can see that they are, and that when they are free, things will change for women as a natural consequence. If men don’t have to be aggressive in order to be accepted, women won’t feel compelled to be submissive. Both men and women should feel free to be sensitive. Both men and women should feel free to be strong. It is time that we all perceive gender on a spectrum, instead of two sets of opposing ideals. If we stop defining each other by what we are not, and start defining ourselves by who we are, we can all be freer, and this is what HeForShe is about. It’s about freedom. \\n\\nI want men to take up this mantle so that their daughters, sisters, and mothers can be free from prejudice, but also so that their sons have permission to be vulnerable and human too, reclaim those parts of themselves they abandoned, and in doing so, be a more true and complete version of themselves.')]"
      ]
     },
     "execution_count": 12,
     "metadata": {},
     "output_type": "execute_result"
    }
   ],
   "source": [
    "docs = db2.similarity_search(query)\n",
    "docs"
   ]
  },
  {
   "cell_type": "code",
   "execution_count": 13,
   "id": "4a09a90b",
   "metadata": {},
   "outputs": [
    {
     "data": {
      "text/plain": [
       "'I started questioning gender-based assumptions a long time ago. When I was 8, I was confused for being called bossy because I wanted to direct the plays that we would put on for our parents, but the boys were not. When at 14, I started to be sexualized by certain elements of the media. When at 15, my girlfriends started dropping out of sports teams because they didn’t want to appear muscly. When at 18, my male friends were unable to express their feelings. \\n\\nI decided that I was a feminist, and this seemed uncomplicated to me. But my recent research has shown me that feminism has become an unpopular word. Women are choosing not to identify as feminists. Apparently, I’m among the ranks of women whose expressions are seen as too strong, too aggressive, isolating, and anti-men. Unattractive, even.'"
      ]
     },
     "execution_count": 13,
     "metadata": {},
     "output_type": "execute_result"
    }
   ],
   "source": [
    "## Retriver options \n",
    "retriever = vectordb.as_retriever()\n",
    "docs = retriever.invoke(query)[0]\n",
    "docs.page_content\n"
   ]
  },
  {
   "cell_type": "code",
   "execution_count": null,
   "id": "fd49fa14",
   "metadata": {},
   "outputs": [],
   "source": []
  }
 ],
 "metadata": {
  "kernelspec": {
   "display_name": "mlenv",
   "language": "python",
   "name": "python3"
  },
  "language_info": {
   "codemirror_mode": {
    "name": "ipython",
    "version": 3
   },
   "file_extension": ".py",
   "mimetype": "text/x-python",
   "name": "python",
   "nbconvert_exporter": "python",
   "pygments_lexer": "ipython3",
   "version": "3.10.16"
  }
 },
 "nbformat": 4,
 "nbformat_minor": 5
}
