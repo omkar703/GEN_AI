{
 "cells": [
  {
   "cell_type": "markdown",
   "id": "89642a27",
   "metadata": {},
   "source": [
    "# Querying PDF with Astra DB and Langchain \n",
    "\n",
    "\n",
    "- need a serverless cassandra with vector search [Astra DB]\n",
    "\n",
    "- Get DB token and Database ID "
   ]
  },
  {
   "cell_type": "code",
   "execution_count": 1,
   "id": "40da8b36",
   "metadata": {},
   "outputs": [
    {
     "name": "stderr",
     "output_type": "stream",
     "text": [
      "/home/omkar/anaconda3/envs/mlenv/lib/python3.10/site-packages/tqdm/auto.py:21: TqdmWarning: IProgress not found. Please update jupyter and ipywidgets. See https://ipywidgets.readthedocs.io/en/stable/user_install.html\n",
      "  from .autonotebook import tqdm as notebook_tqdm\n"
     ]
    }
   ],
   "source": [
    "# LangChain components to use\n",
    "from langchain.vectorstores.cassandra import Cassandra\n",
    "\n",
    "# wrap all the vectors in a wraper\n",
    "from langchain.indexes.vectorstore import VectorStoreIndexWrapper \n",
    "from langchain.llms import OpenAI\n",
    "from langchain.embeddings import OpenAIEmbeddings\n",
    "\n",
    "# if we want data set from huggingface\n",
    "# Support for dataset retrieval with Hugging Face\n",
    "from datasets import load_dataset\n",
    "\n",
    "# With CassIO, the engine powering the Astra DB integration in LangChain,\n",
    "# you will also initialize the DB connection:\n",
    "import cassio"
   ]
  },
  {
   "cell_type": "code",
   "execution_count": 2,
   "id": "474c1e02",
   "metadata": {},
   "outputs": [],
   "source": [
    "from PyPDF2 import PdfReader"
   ]
  },
  {
   "cell_type": "code",
   "execution_count": null,
   "id": "bf10bafc",
   "metadata": {},
   "outputs": [],
   "source": [
    "# genretate token\n",
    "ASTRA_DB_APPLICATION_TOKEN = \"YOUR_API_KEY\" # \n",
    "\n",
    "ASTRA_DB_ID =\"YOUR_API_KEY\" # enter your Database ID\n",
    "\n",
    "OPENAI_API_KEY = \"YOUR_API_KEY\" # enter your OpenAI API Key"
   ]
  },
  {
   "cell_type": "code",
   "execution_count": 4,
   "id": "1adb9815",
   "metadata": {},
   "outputs": [],
   "source": [
    "# Read the pdf \n",
    "pdfreader = PdfReader('ai_engineer_roadmap_2025.pdf')"
   ]
  },
  {
   "cell_type": "code",
   "execution_count": 5,
   "id": "7f7ba0a8",
   "metadata": {},
   "outputs": [],
   "source": [
    "# read the raw data \n",
    "from typing_extensions import Concatenate\n",
    "# read text from pdf\n",
    "# extract all the text from pdf pages\n",
    "raw_text = ''\n",
    "for i, page in enumerate(pdfreader.pages):\n",
    "    content = page.extract_text()\n",
    "    if content:\n",
    "        raw_text += content"
   ]
  },
  {
   "cell_type": "code",
   "execution_count": 6,
   "id": "e9c505a3",
   "metadata": {},
   "outputs": [
    {
     "data": {
      "text/plain": [
       "' \\n   \\ncodebasics.io  \\n \\n1 \\nAI Engineer Roadmap for Beginners  \\nFollowing is the roadmap  to learning  AI Engineer  (also known as ML Engineer ) skills for a total \\nbeginner. It includes FREE learning resources for technical skills (or tool skills) and soft (or core) skills  \\n                       \\nFind Your Suitability : Before you start your learning journey, it is important you find out if AI \\nengineering  career really suits your natural abilities and interest. Take this test to know your \\nsuitability : https://codebasics.io/survey/find -your-match -ds \\nProceed further if results show that this career role is a match for you.  \\nTotal Duration: 8 Months  (4 hours  of study every day, 6 days a week ) \\nAlso, AI Engineer = Data Scientist + Software Engineer  \\n \\n \\n \\n \\n \\n \\n   \\ncodebasics.io  \\n \\n2 \\n \\nWeek 0: Do Proper Research and protect yourself from SCAMS.  \\n \\n Unfortunately, a lot of systematic scams are happening in ed tech, especially in the \\ndata field where aspirants are provided with false promises like a 100% job guarantee or \\ntrapped into “Masterclasses” which are nothing but sales pitches to upsell their l ow-grade \\ncourses at exorbitant prices. You need to do complete research about the market and \\nmentors before starting your journey. Providing you the links to a few posts that we have \\nmade in this regard which will support your research.  \\n \\nEven though these  posts are NOT  sufficient, do additional  research.  \\n \\n• https://bit.ly/3Fl7cEh  \\n• https://bit.ly/4at9Jaw  \\n• https://bit.ly/477IOOs  \\n• https://bit.ly/3GPD7dp  \\n \\n \\nWeek 1: Computer Science Fundamentals 💻 \\n \\n• Topics  \\no Data representation: Bits and Bytes, Storing text and numbers, Binary number \\nsystem.  \\no Basics of computer networks, IP addresses, Internet routing protocol  \\no UDP, TCP, HTTP, and The World Wide Web  \\no Programming basics: variables, strings, and numbers, if condition, loops  \\no Algorithm basics  \\n• Learning Resources  \\no Khan Academy  course: https://bit.ly/42DUXtW  \\no In the above course , only follow the first 4 sections (1) Digital Information (2) \\nThe Internet (3) Programming (4) Algorithms . Completing the remaining \\nsections is optional . Do it if you have time and interest.  \\no EXTREMELY IMPORTANT : Use ChatGPT 😎 as your personal tutor in case \\nyou have doubts and you need clarity on anything  \\n \\nSkip this section if you are already a software engineer, computer science student  or know \\nthe above fundamentals due to whatever reason . \\n \\n \\n  \\n   \\ncodebasics.io  \\n \\n3 \\nWeek 2: Beginners P ython                                                                     \\n \\n• Topics  \\no Variables, Numbers, Strings  \\no Lists, Dictionaries, Sets, Tuples  \\no If condition, for loop  \\no Functions, Lambda Functions  \\no Modules  (pip install)  \\no Read, Write files \\no Exception handling  \\no Classes, Objects  \\n \\n• Learning Resources  \\no Track A (Free)  \\n▪ Python Tutorials (Codebasics) on YouTube  (first 16  videos ) \\n- https://bit.ly/3X6CCC7  \\n▪ Corey’s Python Tutorials: https://bit.ly/3uqUgaZ  \\n▪ Codebasics python HINDI tutorials - https://bit.ly/3vmXrgw  \\n▪ EXTREMELY IMPORTANT : Use ChatGPT 😎 as your personal tutor in \\ncase you have questions or facing issues  \\n \\no Track B ( Affordable Fees) \\n▪ AI Bootcamp: https://codebasics.io/bootcamps/ai -data-science -\\nbootcamp -with-virtual -internship  \\n \\n• LinkedIn - Core Skill  \\n☐ Create a professional -looking LinkedIn profile.  \\n▪ Have a clear profile picture and banner image.  \\n▪ Add tags such as: Open to work etc.  \\n \\n     ☐ Use this LinkedIn Checklist to create a profile: Click here.  \\n \\n• Assignment   \\n☐ Track A: Finish all these exercises: https://bit.ly/3k1mof5   \\n☐ Track B: Finish exercises and quizzes for relevant topics  \\n☐ Create a professional -looking  LinkedIn profile.  \\n  \\n   \\ncodebasics.io  \\n \\n4 \\nWeek 3 and 4: Data Structures and Algorithms in Python                                                          \\n \\n• Topics  \\no Data structures basics, Big O notation  \\no Data structures: Arrays, Linked List, Hash Table, Stack, Queue  \\no Data structures: Tree, Graph  \\no Algorithms: Binary search, Bubble sort, quick sort, merge sort  \\no Recursion  \\n \\n• Learning Resources  \\no DSA YouTube Playlist: https://bit.ly/3uiW2Lf  \\n \\n• Motivation  \\no ML Engineer after 12th : https://bit.ly/3DqwLTY  \\n• Assignment   \\n☐ Finish all these exercises in this same playlist: https://bit.ly/3uiW2Lf  \\n \\n \\nWeek 5: Advance Python                                                                    \\n \\n• Topics  \\no Inheritance, Generators, Iterators  \\no List Comprehensions, Decorators  \\no Multithreading, Multiprocessing  \\n \\n• Learning Resources  \\no Python Tutorials (Codebasics) on YouTube  (17th to 27th video) \\n- https://bit.ly/3X6CCC7  \\n \\n• Assignment   \\n☐ Finish all these exercises in this same playlist: https://bit.ly/3X6CCC7  \\n \\n \\n \\n \\n \\n  \\n   \\ncodebasics.io  \\n \\n5 \\n• Core/Soft S kills \\no Linkedin  \\n▪ Start following prominent AI influencers.  \\n▪ Yann LeCun: https://www.linkedin.com/in/yann -lecun/  \\n▪ Daliana Liu: https://www.linkedin.com/in/dalianaliu/  \\n▪ Nitin Aggarwal: https://www.linkedin.com/in/ntnaggarwal/  \\n▪ Steve Nouri: https://www.linkedin.com/in/stevenouri/  \\n▪ Dhaval Patel: https://www.linkedin.com/in/dhavalsays/  \\n \\n▪ Increase engagement.  \\n▪ Start commenting meaningfully on AI and career -related posts.  \\n▪ Helps network with others working in the industry build \\nconnections.  \\n▪ Learning and brainstorming opportunity.  \\n \\n▪ Remember online presence is a new form of resume  \\n \\no Business Fundamentals - Soft Skill \\n▪ Learn business concepts from ThinkSchool and other YT Case Studies  \\n▪ Example: How Amul beat competition: https://youtu.be/nnwqtZiYMxQ  \\n \\no Discord  \\n▪ Start asking questions and get help from the community. This post \\nshows how to ask questions the right way:  https://bit.ly/3I70EbI  \\n▪ Join codebasics discord server: https://discord.gg/r42Kbuk  \\n \\n• Assignment  \\n☐ Write meaningful comments on at least 10 AI related LinkedIn  posts  \\n☐ Note down your key learnings from 3 case studies  on ThinkSchool  and share \\nthem with your friend.  \\n \\n• Motivation  \\no How Kaggle helped this person become ML engineer : https://bit.ly/3RFVruy  \\n \\n \\n \\n  \\n   \\ncodebasics.io  \\n \\n6 \\nWeek 6: Version Control (Git, Github)       \\n \\n• Topics  \\no What is the version  control system? What is Git and GitHub ? \\no Basic commands: add, commit, push.  \\no Branches, reverting change, HEAD, Diff and Merge  \\no Pull requests.  \\n \\n• Learning Resources  \\no YT playlist (codebasics): https://bit.ly/3SECQQ7  \\no YT playlist (Corey): https://bit.ly/3T0Yrmb  \\n \\n• Core/Soft Skills  \\no Presentation skills  \\n▪ Death by PowerPoint: https://youtu.be/Iwpi1Lm6dFo  \\n \\n \\nWeek 7, 8: Databases : Relational DB and SQL  🎲 \\n \\n• Topics  \\no Basics of relational databases.  \\no Basic Queries: SELECT, WHERE LIKE, DISTINCT, BETWEEN, GROUP BY, ORDER \\nBY \\no Advanced Queries: CTE, Subqueries, Window Functions  \\no Joins: Left, Right, Inner, Full  \\no Database creati on, indexes, stored procedures . \\n \\n• Learning Resources  \\no Track A  \\n▪ Khan academy SQL course: https://bit.ly/3WFku20  \\n▪ https://www.w3schools.com/sql/  \\n▪ https://sqlbolt.com/  \\n▪ YT video:  https://youtu.be/Rm0xH2Vpfi0?si=6ZLK8A5LvGqN4NmT  \\n \\n \\n \\n \\n  \\n   \\ncodebasics.io  \\n \\n7 \\no Track B  \\n▪ AI Bootcamp: https://codebasics.io/bootcamps/ai -data-science -\\nbootcamp -with-virtual -internship  \\n \\n• Assignment  \\n     ☐ Participate in SQL resume project challenge on https://codebasics.io/  \\n▪ Link: https://codebasics.io/challenge/codebasics -resume -project -\\nchallenge/7  \\n▪ These challenges help you improve technical skills, soft skills and \\nbusiness understanding.  \\n     ☐ Make a LinkedIn post with a submission of your resume project challenge  \\nSample post: https://bit.ly/48Bg5mB  \\n \\n \\nWeek 9: Databases: NoSQL DB 🎲 \\n \\n• Topics  \\no NoSQL Fundamentals: Why NoSQL became popular – scalability challenges, \\nunstructured data, real -time analytics etc.   \\no Data Modeling in NoSQL  \\no Base vs. ACID, Data Partitioning and Sharding, Replication, CAP Theorem  \\n \\n• Learning Resources  \\no How do NoSQL DB work: https://bit.ly/3XMlKmF  \\no MongoDB Tutorial:   https://bit.ly/3DKf9ST  \\n \\n• Motivation  \\no Mechanical to Deep Learning Engineer: https://bit.ly/48lX9aR  \\n \\n \\nWeek 10: Numpy, P andas, Data Visualization        \\n \\n• Tech Skills \\no Numpy  \\n▪ numpy YouTube  playlist: https://bit.ly/3GTppa8  \\n \\n  \\n   \\ncodebasics.io  \\n \\n8 \\no Pandas , Matplotlib, Seaborn  \\n▪ Go through chapter 5 in this course (entire chapter is free):  \\nhttps://codebasics.io/courses/math -and-statistics -for-data-science  \\n \\n \\nWeek 11, 12, 13: Math & S tatistics for AI                            \\n \\n• Math and Statistics for AI \\no Topics to Learn  \\n▪ Basics: Descriptive vs inferential statistics , continuous vs discrete data, \\nnominal vs ordinal data  \\n▪ Linear Algebra: Vectors, Metrices, Eigenvalues and Eigenvectors  \\n▪ Calculus: Basics of integral and differential calculus  \\n▪ Basic plots: Histograms, pie charts, bar charts, scatter plot etc.  \\n▪ Measures of central tendency: mean, median, mode  \\n▪ Measures of dispersion : variance, standard deviation  \\n▪ Probability basics  \\n▪ Distributions: Normal distribution  \\n▪ Correlation and covariance  \\n▪ Central limit theorem  \\n▪ Hypothesis testing: p value, confidence interval, type 1 vs type 2 error, \\nZ test  \\n \\no Learning Resources  \\n▪ Track A (Free)  \\n▪ Learn the above  topics from this excellent Khan academy course \\non statistics  and probability.  \\n▪ Course link : https://www.khanacademy.org/math/statistics -\\nprobability  \\n▪ While doing khan academy course, when you have doubts, use \\nstatquest YouTube channel:   \\nhttps://www.youtube.com/@statquest  \\n▪ Use this free YouTube playlist: https://bit.ly/3QrSXis  \\n▪ Another great youtube channel: \\nhttps://www.youtube.com/@3blue1brown  \\n \\n \\n \\n  \\n   \\ncodebasics.io  \\n \\n9 \\n▪ Track B (Affordable Fees)  \\n▪ Learn the key concepts of Math and Statistics that lay the \\nfoundations for a strong data science career : \\nhttps://codebasics.io/courses/math -and-statistics -for-data-\\nscience  \\n \\n• Assignment  \\n          ☐ Finish all exercises in this playlist: https://bit.ly/3QrSXis  \\n     ☐ Finish all exercises in Khan academy course . \\n           ☐ Track B: Finish exercises and quizzes for relevant topics . \\n \\n \\nWeek 14: Exploratory Data Analysis (EDA)                             \\n \\n• Exploratory Data Analysis (EDA)  \\no Online retail analysis tutorial: https://bit.ly/420JrtT  \\no https://www.kaggle.com/code?searchQuery=exploratory+data+analysis  \\no Use the above link to search for exploratory data analysis notebooks.  \\no Practice EDA using at least 3 datasets.  \\n▪ e.g. https://www.kaggle.com/datasets/rishabhkarn/ipl -auction -\\n2023/data  \\n \\n• Assignment  \\n☐ Perform EDA (Exploratory data analysis on at least 2 additional datasets  on \\nKaggle)  \\n \\n \\nWeek 15, 16, 17, 18 : Machine Learning       \\n \\n• Machine Learning : Preprocessing  \\no Handling NA values , outlier treatment, data normalization  \\no One hot encoding, label encoding  \\no Feature engineering  \\no Train test split  \\no Cross validation  \\n \\n \\n  \\n   \\ncodebasics.io  \\n \\n10 \\n• Machine Learning: Model  Building  \\no Types of ML: Supervised, Unsupervised  \\no Supervised: Regression vs Classification  \\no Linear models  \\n▪ Linear regression, logistic regression  \\n▪ Gradient descent  \\no Nonlinear models ( tree-based  models)  \\n▪ Decision tree  \\n▪ Random forest  \\n▪ XGBoost  \\no Model evaluation  \\n▪ Regression: Mean Squared Error, Mean Absolute Error, MAPE  \\n▪ Classification: Accuracy, Precision -Recall, F1 Score, ROC Curve, \\nConfusion matrix  \\no Hyperparameter tunning: GridSearchCV, RandomSearchCV  \\no Unsupervised: K means, Hierarchical clustering, Dimensionality reduction \\n(PCA)  \\n \\n• Learning Resources  \\no Track  A \\n▪ YouTube playlist (more than 2 million views): https://bit.ly/3io5qqX  \\n▪ First 21 videos  \\n▪ Feature engineering playlist: https://bit.ly/3IFa3Yf  \\no Track B (Affordable Fees)  \\n▪ AI Bootcamp: https://codebasics.io/bootcamps/ai -data-science -\\nbootcamp -with-virtual -internship  \\n \\n• Core/Soft Skills  \\no Project Management  \\n▪ Scrum: https://scrumtrainingseries.com/  \\n▪ Kanban: https://youtu.be/jf0tlbt9lx0  \\n▪ Tools: JIRA, Notion  \\n \\n \\n \\n \\n \\n  \\n   \\ncodebasics.io  \\n \\n11 \\n• Assignment  \\n         ☐ Complete all exercises in ML playlist: https://bit.ly/3io5qqX  \\n         ☐ Work on 2 Kaggle ML notebooks  \\n         ☐ Write 2 LinkedIn posts  on whatever you have learnt in ML  \\n         ☐ Discord: Help people with at least 10 answers  \\n         ☐ Track B: Finish exercises and quizzes for relevant topics  \\n \\n \\nWeek 19: ML Ops ⚙️ \\n \\n• Topics  \\no What is ML Ops? Experiment Tracking with MLFlow  \\no What is API? FastAPI for Python server development  \\no DevOps Fundamentals: CI/CD pipelines, containerization (Docker, Kubernetes)  \\no Familiarity with at least one cloud platform (AWS, Azure etc.)  \\n \\n• Learning Resources  \\no Track  A: \\n▪ What is ML Ops: https://bit.ly/3R4uGA0  \\n▪ FastAPI tutorial: https://bit.ly/497p6Ex  \\n▪ MLFlow Tutorial : https://bit.ly/497p6Ex  \\n▪ Docker Tutorial: https://bit.ly/3uCNpeE  \\no Track B (Affordable Fees):  \\n▪ AI Bootcamp: https://codebasics.io/bootcamps/ai -data-science -\\nbootcamp -with-virtual -internship  \\n \\n \\n \\nWeek 20, 21: Machine Learning Projects       \\n \\n• You need to finish two end to end ML projects. One on Regression , the other on \\nClassification  \\n \\n• Regression Project: Bangalore property price prediction  \\no YouTube playlist link: https://bit.ly/3ivycWr  \\n \\n \\n \\n  \\n   \\ncodebasics.io  \\n \\n12 \\no Project covers the following  \\n▪ Data cleaning  \\n▪ Feature engineering  \\n▪ Model building and hyper parameter tuning  \\n▪ Write flask server as a web backend  \\n▪ Building website for price prediction  \\n▪ Deployment to AWS  \\n \\n• Classification Project: Log Classification System  \\no YouTube link: https://bit.ly/4hu5EoL  \\no Project covers the following  \\n▪ How to use hybrid approach (regex, BERT , Logistic Regression  and LLM) \\nfor classification)  \\n▪ DB Scan clustering  \\n▪ Building FastAPI Backend  \\n \\n• ATS Resume Preparation  \\no Resumes are dying but not dead yet. Focus more on online presence.  \\no Here is the resume tips video along with some templates you can use for your \\ndata analyst resume: https://www.youtube.com/watch?v=buQSI8NLOMw  \\no Use this checklist to ensure you have the right ATS Resume:  Check here.  \\n \\n• Portfolio Building Resources:  \\nYou need a portfolio website in 2024. You can build your portfolio by using these free \\nresources.  \\n• GitHub  \\no Upload your projects with code on github and using github.io create a \\nportfolio website  \\no Sample portfolio website: http://rajag0pal.github.io/  \\no Codebasics bootcamp student portfolio: \\nhttps://codebasics.io/portfolio/Rachana -Hadke  \\n \\n• Linktree  \\no Helpful to add multiple links in one page.  \\n \\n \\n \\n \\n  \\n   \\ncodebasics.io  \\n \\n13 \\n• Assignment  \\no In above two projects make following changes  \\n☐ Use FastAPI  instead of flask . FastAPI tutorial: https://youtu.be/Wr1JjhTt1Xg  \\n☐ Regression project : Instead of property prediction, take any other project \\nof your interest from Kaggle for regress ion \\n☐ Classification project : Instead of log classification , take any classification \\nproject using a Kaggle dataset and build end to end solution along with \\ndeployment to AWS or Azure  \\n     ☐ Add a link of your projects in your resume and LinkedIn.  \\n(Tag Codebasics, Dhaval Patel and Hemanand Vadivel with the hashtag \\n#dsroadmap24 so we can engage to increase your visibility)  \\n \\n \\nWeek 22, 23, 24, 25 : Deep Learning           \\n \\n• Topics  \\no What is a neural network? Forward propagation, back propagation  \\no Building multilayer perceptron  \\no Special neural network architectures  \\n▪ Convolutional neural network (CNN)  \\n▪ Sequence models: RNN, LSTM  \\n▪ Transformers  \\n \\n• Learning Resources  \\no Track A (Free)  \\n▪ Deep Learning playlist  (tensorflow) : https://bit.ly/3vOZ3zV  \\n▪ End to end potato disease  classification project: https://bit.ly/3QzkVJi  \\no Track B (Affordable Fees):  \\n▪ AI Bootcamp: https://codebasics.io/bootcamps/ai -data-science -\\nbootcamp -with-virtual -internship  \\n \\n• Assignment  \\n☐ Instead of potato plant images use tomato plant images or some other image \\nclassification dataset . \\n☐ Deploy to Azure instead of GCP . \\n☐ Create a presentation as if you are presenting to stakeholders and upload \\nvideo presentation on LinkedIn . \\n  \\n   \\ncodebasics.io  \\n \\n14 \\nWeek 26, 27, 28: NLP or Computer Vision   \\n \\n• Many AI engineers  choose a specialized track which is either NLP or Computer vision. \\nYou don’t need to learn both.  \\n \\n• Natural Language Processing (N LP) \\no Topics  \\n▪ Regex  \\n▪ Text presentation: Count vectorizer, TF -IDF, BOW, Word2Vec, \\nEmbeddings  \\n▪ Text classification: Naïve Bayes  \\n▪ Fundamentals of Spacy & NLTP library  \\n▪ One end to end project  \\no Learning Resources  \\n▪ NLP YouTube playlist: https://bit.ly/3XnjfEZ  \\n \\n• Comput er Vision (CV)  \\no Topics  \\n▪ Basic image processing techniques: Filtering, Edge Detection, Image \\nScaling, Rotation  \\n▪ Library to use: OpenCV  \\n▪ Convolutional Neural Networks (CNN) – Already covered in deep \\nlearning.  \\n▪ Data preprocessing, augmentation – Already covered in deep learning.  \\n \\n• Assignment  \\n☐ NLP Track: Complete exercises in this playlist: https://bit.ly/3XnjfEZ  \\n \\nWeek 29, 30: Gen AI (Including AI Agents) 📃 \\n \\n• Topics  \\no What is LLM, Vector database, Embeddings?  \\no RAG (Retrieval Augmented Generation)  \\no Langchain framework  \\no AI Agents, Agno (previously called phidata) framework  \\n \\n  \\n   \\ncodebasics.io  \\n \\n15 \\n• Learning Resources  \\no Gen AI crash  course: https://bit.ly/3Fn7Zoh  \\no AI Agents Tutorial : https://bit.ly/4io8YD5   \\n \\n \\nWeek 31, 32 : Gen AI Projects 📃 \\n \\n• Topics  \\no Projects that include using LLMs, RAG, Agents to solve real life problems  \\n• Learning Resources  \\no Gen AI project playlist : https://bit.ly/4ilzEnX  \\n \\n \\nWeek 33 onwards…                     \\n \\n• More projects          \\n• Online brand building through LinkedIn, Kaggle, Discord, Opensource contribution  \\n                                              \\n• Job application and Success         \\n \\n \\nTips of effective learning     \\n \\n• Spend less time in consuming information, more time in  \\no Digesting   \\no Implementing  \\no Sharing  \\n• Group learning  \\no Use partner -and-group -finder  channel on c odebasics discord server  for \\ngroup study and hold each other accountable for the progress of your study \\nplan. Here is the discord server link : https://discord.gg/r42Kbuk   \\n \\n '"
      ]
     },
     "execution_count": 6,
     "metadata": {},
     "output_type": "execute_result"
    }
   ],
   "source": [
    "raw_text "
   ]
  },
  {
   "cell_type": "code",
   "execution_count": 7,
   "id": "05da66f9",
   "metadata": {},
   "outputs": [],
   "source": [
    "## Initialize the connection to the AstraDB database\n",
    "\n",
    "cassio.init(token=ASTRA_DB_APPLICATION_TOKEN, database_id=ASTRA_DB_ID)"
   ]
  },
  {
   "cell_type": "code",
   "execution_count": 8,
   "id": "2c4a9823",
   "metadata": {},
   "outputs": [
    {
     "name": "stderr",
     "output_type": "stream",
     "text": [
      "/tmp/ipykernel_109830/2861945626.py:2: LangChainDeprecationWarning: The class `OpenAI` was deprecated in LangChain 0.0.10 and will be removed in 1.0. An updated version of the class exists in the :class:`~langchain-openai package and should be used instead. To use it run `pip install -U :class:`~langchain-openai` and import as `from :class:`~langchain_openai import OpenAI``.\n",
      "  llm = OpenAI(openai_api_key=OPENAI_API_KEY)\n",
      "/tmp/ipykernel_109830/2861945626.py:3: LangChainDeprecationWarning: The class `OpenAIEmbeddings` was deprecated in LangChain 0.0.9 and will be removed in 1.0. An updated version of the class exists in the :class:`~langchain-openai package and should be used instead. To use it run `pip install -U :class:`~langchain-openai` and import as `from :class:`~langchain_openai import OpenAIEmbeddings``.\n",
      "  embedding = OpenAIEmbeddings(openai_api_key=OPENAI_API_KEY)\n"
     ]
    }
   ],
   "source": [
    "# Embeddings and llm \n",
    "llm = OpenAI(openai_api_key=OPENAI_API_KEY)\n",
    "embedding = OpenAIEmbeddings(openai_api_key=OPENAI_API_KEY)"
   ]
  },
  {
   "cell_type": "code",
   "execution_count": 9,
   "id": "6dbe0d9d",
   "metadata": {},
   "outputs": [],
   "source": [
    "## create a langchain vector store\n",
    "astra_vector_store = Cassandra(\n",
    "    embedding=embedding,\n",
    "    table_name=\"qa_mini_demo\",\n",
    "    session=None,\n",
    "    keyspace=None,\n",
    ")"
   ]
  },
  {
   "cell_type": "code",
   "execution_count": 10,
   "id": "42805460",
   "metadata": {},
   "outputs": [],
   "source": [
    "# data the data , convert into chunks \n",
    "from langchain.text_splitter import CharacterTextSplitter\n",
    "# We need to split the text using Character Text Split such that it sshould not increse token size\n",
    "text_splitter = CharacterTextSplitter(\n",
    "    separator = \"\\n\",\n",
    "    chunk_size = 800,\n",
    "    chunk_overlap  = 200,\n",
    "    length_function = len,\n",
    ")\n",
    "texts = text_splitter.split_text(raw_text)"
   ]
  },
  {
   "cell_type": "code",
   "execution_count": 12,
   "id": "127fffe3",
   "metadata": {},
   "outputs": [
    {
     "data": {
      "text/plain": [
       "['codebasics.io  \\n \\n1 \\nAI Engineer Roadmap for Beginners  \\nFollowing is the roadmap  to learning  AI Engineer  (also known as ML Engineer ) skills for a total \\nbeginner. It includes FREE learning resources for technical skills (or tool skills) and soft (or core) skills  \\n                       \\nFind Your Suitability : Before you start your learning journey, it is important you find out if AI \\nengineering  career really suits your natural abilities and interest. Take this test to know your \\nsuitability : https://codebasics.io/survey/find -your-match -ds \\nProceed further if results show that this career role is a match for you.  \\nTotal Duration: 8 Months  (4 hours  of study every day, 6 days a week ) \\nAlso, AI Engineer = Data Scientist + Software Engineer',\n",
       " 'Total Duration: 8 Months  (4 hours  of study every day, 6 days a week ) \\nAlso, AI Engineer = Data Scientist + Software Engineer  \\n \\n \\n \\n \\n \\n \\n   \\ncodebasics.io  \\n \\n2 \\n \\nWeek 0: Do Proper Research and protect yourself from SCAMS.  \\n \\n Unfortunately, a lot of systematic scams are happening in ed tech, especially in the \\ndata field where aspirants are provided with false promises like a 100% job guarantee or \\ntrapped into “Masterclasses” which are nothing but sales pitches to upsell their l ow-grade \\ncourses at exorbitant prices. You need to do complete research about the market and \\nmentors before starting your journey. Providing you the links to a few posts that we have \\nmade in this regard which will support your research.',\n",
       " 'mentors before starting your journey. Providing you the links to a few posts that we have \\nmade in this regard which will support your research.  \\n \\nEven though these  posts are NOT  sufficient, do additional  research.  \\n \\n• https://bit.ly/3Fl7cEh  \\n• https://bit.ly/4at9Jaw  \\n• https://bit.ly/477IOOs  \\n• https://bit.ly/3GPD7dp  \\n \\n \\nWeek 1: Computer Science Fundamentals 💻 \\n \\n• Topics  \\no Data representation: Bits and Bytes, Storing text and numbers, Binary number \\nsystem.  \\no Basics of computer networks, IP addresses, Internet routing protocol  \\no UDP, TCP, HTTP, and The World Wide Web  \\no Programming basics: variables, strings, and numbers, if condition, loops  \\no Algorithm basics  \\n• Learning Resources  \\no Khan Academy  course: https://bit.ly/42DUXtW',\n",
       " 'o Programming basics: variables, strings, and numbers, if condition, loops  \\no Algorithm basics  \\n• Learning Resources  \\no Khan Academy  course: https://bit.ly/42DUXtW  \\no In the above course , only follow the first 4 sections (1) Digital Information (2) \\nThe Internet (3) Programming (4) Algorithms . Completing the remaining \\nsections is optional . Do it if you have time and interest.  \\no EXTREMELY IMPORTANT : Use ChatGPT 😎 as your personal tutor in case \\nyou have doubts and you need clarity on anything  \\n \\nSkip this section if you are already a software engineer, computer science student  or know \\nthe above fundamentals due to whatever reason . \\n \\n \\n  \\n   \\ncodebasics.io  \\n \\n3 \\nWeek 2: Beginners P ython                                                                     \\n \\n• Topics',\n",
       " 'the above fundamentals due to whatever reason . \\n \\n \\n  \\n   \\ncodebasics.io  \\n \\n3 \\nWeek 2: Beginners P ython                                                                     \\n \\n• Topics  \\no Variables, Numbers, Strings  \\no Lists, Dictionaries, Sets, Tuples  \\no If condition, for loop  \\no Functions, Lambda Functions  \\no Modules  (pip install)  \\no Read, Write files \\no Exception handling  \\no Classes, Objects  \\n \\n• Learning Resources  \\no Track A (Free)  \\n▪ Python Tutorials (Codebasics) on YouTube  (first 16  videos ) \\n- https://bit.ly/3X6CCC7  \\n▪ Corey’s Python Tutorials: https://bit.ly/3uqUgaZ  \\n▪ Codebasics python HINDI tutorials - https://bit.ly/3vmXrgw  \\n▪ EXTREMELY IMPORTANT : Use ChatGPT 😎 as your personal tutor in \\ncase you have questions or facing issues',\n",
       " '▪ Codebasics python HINDI tutorials - https://bit.ly/3vmXrgw  \\n▪ EXTREMELY IMPORTANT : Use ChatGPT 😎 as your personal tutor in \\ncase you have questions or facing issues  \\n \\no Track B ( Affordable Fees) \\n▪ AI Bootcamp: https://codebasics.io/bootcamps/ai -data-science -\\nbootcamp -with-virtual -internship  \\n \\n• LinkedIn - Core Skill  \\n☐ Create a professional -looking LinkedIn profile.  \\n▪ Have a clear profile picture and banner image.  \\n▪ Add tags such as: Open to work etc.  \\n \\n     ☐ Use this LinkedIn Checklist to create a profile: Click here.  \\n \\n• Assignment   \\n☐ Track A: Finish all these exercises: https://bit.ly/3k1mof5   \\n☐ Track B: Finish exercises and quizzes for relevant topics  \\n☐ Create a professional -looking  LinkedIn profile.  \\n  \\n   \\ncodebasics.io  \\n \\n4',\n",
       " '☐ Track B: Finish exercises and quizzes for relevant topics  \\n☐ Create a professional -looking  LinkedIn profile.  \\n  \\n   \\ncodebasics.io  \\n \\n4 \\nWeek 3 and 4: Data Structures and Algorithms in Python                                                          \\n \\n• Topics  \\no Data structures basics, Big O notation  \\no Data structures: Arrays, Linked List, Hash Table, Stack, Queue  \\no Data structures: Tree, Graph  \\no Algorithms: Binary search, Bubble sort, quick sort, merge sort  \\no Recursion  \\n \\n• Learning Resources  \\no DSA YouTube Playlist: https://bit.ly/3uiW2Lf  \\n \\n• Motivation  \\no ML Engineer after 12th : https://bit.ly/3DqwLTY  \\n• Assignment   \\n☐ Finish all these exercises in this same playlist: https://bit.ly/3uiW2Lf',\n",
       " '• Motivation  \\no ML Engineer after 12th : https://bit.ly/3DqwLTY  \\n• Assignment   \\n☐ Finish all these exercises in this same playlist: https://bit.ly/3uiW2Lf  \\n \\n \\nWeek 5: Advance Python                                                                    \\n \\n• Topics  \\no Inheritance, Generators, Iterators  \\no List Comprehensions, Decorators  \\no Multithreading, Multiprocessing  \\n \\n• Learning Resources  \\no Python Tutorials (Codebasics) on YouTube  (17th to 27th video) \\n- https://bit.ly/3X6CCC7  \\n \\n• Assignment   \\n☐ Finish all these exercises in this same playlist: https://bit.ly/3X6CCC7  \\n \\n \\n \\n \\n \\n  \\n   \\ncodebasics.io  \\n \\n5 \\n• Core/Soft S kills \\no Linkedin  \\n▪ Start following prominent AI influencers.  \\n▪ Yann LeCun: https://www.linkedin.com/in/yann -lecun/',\n",
       " 'codebasics.io  \\n \\n5 \\n• Core/Soft S kills \\no Linkedin  \\n▪ Start following prominent AI influencers.  \\n▪ Yann LeCun: https://www.linkedin.com/in/yann -lecun/  \\n▪ Daliana Liu: https://www.linkedin.com/in/dalianaliu/  \\n▪ Nitin Aggarwal: https://www.linkedin.com/in/ntnaggarwal/  \\n▪ Steve Nouri: https://www.linkedin.com/in/stevenouri/  \\n▪ Dhaval Patel: https://www.linkedin.com/in/dhavalsays/  \\n \\n▪ Increase engagement.  \\n▪ Start commenting meaningfully on AI and career -related posts.  \\n▪ Helps network with others working in the industry build \\nconnections.  \\n▪ Learning and brainstorming opportunity.  \\n \\n▪ Remember online presence is a new form of resume  \\n \\no Business Fundamentals - Soft Skill \\n▪ Learn business concepts from ThinkSchool and other YT Case Studies',\n",
       " '▪ Remember online presence is a new form of resume  \\n \\no Business Fundamentals - Soft Skill \\n▪ Learn business concepts from ThinkSchool and other YT Case Studies  \\n▪ Example: How Amul beat competition: https://youtu.be/nnwqtZiYMxQ  \\n \\no Discord  \\n▪ Start asking questions and get help from the community. This post \\nshows how to ask questions the right way:  https://bit.ly/3I70EbI  \\n▪ Join codebasics discord server: https://discord.gg/r42Kbuk  \\n \\n• Assignment  \\n☐ Write meaningful comments on at least 10 AI related LinkedIn  posts  \\n☐ Note down your key learnings from 3 case studies  on ThinkSchool  and share \\nthem with your friend.  \\n \\n• Motivation  \\no How Kaggle helped this person become ML engineer : https://bit.ly/3RFVruy  \\n \\n \\n \\n  \\n   \\ncodebasics.io  \\n \\n6',\n",
       " 'them with your friend.  \\n \\n• Motivation  \\no How Kaggle helped this person become ML engineer : https://bit.ly/3RFVruy  \\n \\n \\n \\n  \\n   \\ncodebasics.io  \\n \\n6 \\nWeek 6: Version Control (Git, Github)       \\n \\n• Topics  \\no What is the version  control system? What is Git and GitHub ? \\no Basic commands: add, commit, push.  \\no Branches, reverting change, HEAD, Diff and Merge  \\no Pull requests.  \\n \\n• Learning Resources  \\no YT playlist (codebasics): https://bit.ly/3SECQQ7  \\no YT playlist (Corey): https://bit.ly/3T0Yrmb  \\n \\n• Core/Soft Skills  \\no Presentation skills  \\n▪ Death by PowerPoint: https://youtu.be/Iwpi1Lm6dFo  \\n \\n \\nWeek 7, 8: Databases : Relational DB and SQL  🎲 \\n \\n• Topics  \\no Basics of relational databases.  \\no Basic Queries: SELECT, WHERE LIKE, DISTINCT, BETWEEN, GROUP BY, ORDER \\nBY',\n",
       " 'Week 7, 8: Databases : Relational DB and SQL  🎲 \\n \\n• Topics  \\no Basics of relational databases.  \\no Basic Queries: SELECT, WHERE LIKE, DISTINCT, BETWEEN, GROUP BY, ORDER \\nBY \\no Advanced Queries: CTE, Subqueries, Window Functions  \\no Joins: Left, Right, Inner, Full  \\no Database creati on, indexes, stored procedures . \\n \\n• Learning Resources  \\no Track A  \\n▪ Khan academy SQL course: https://bit.ly/3WFku20  \\n▪ https://www.w3schools.com/sql/  \\n▪ https://sqlbolt.com/  \\n▪ YT video:  https://youtu.be/Rm0xH2Vpfi0?si=6ZLK8A5LvGqN4NmT  \\n \\n \\n \\n \\n  \\n   \\ncodebasics.io  \\n \\n7 \\no Track B  \\n▪ AI Bootcamp: https://codebasics.io/bootcamps/ai -data-science -\\nbootcamp -with-virtual -internship  \\n \\n• Assignment  \\n     ☐ Participate in SQL resume project challenge on https://codebasics.io/',\n",
       " '▪ AI Bootcamp: https://codebasics.io/bootcamps/ai -data-science -\\nbootcamp -with-virtual -internship  \\n \\n• Assignment  \\n     ☐ Participate in SQL resume project challenge on https://codebasics.io/  \\n▪ Link: https://codebasics.io/challenge/codebasics -resume -project -\\nchallenge/7  \\n▪ These challenges help you improve technical skills, soft skills and \\nbusiness understanding.  \\n     ☐ Make a LinkedIn post with a submission of your resume project challenge  \\nSample post: https://bit.ly/48Bg5mB  \\n \\n \\nWeek 9: Databases: NoSQL DB 🎲 \\n \\n• Topics  \\no NoSQL Fundamentals: Why NoSQL became popular – scalability challenges, \\nunstructured data, real -time analytics etc.   \\no Data Modeling in NoSQL  \\no Base vs. ACID, Data Partitioning and Sharding, Replication, CAP Theorem  \\n \\n• Learning Resources',\n",
       " 'unstructured data, real -time analytics etc.   \\no Data Modeling in NoSQL  \\no Base vs. ACID, Data Partitioning and Sharding, Replication, CAP Theorem  \\n \\n• Learning Resources  \\no How do NoSQL DB work: https://bit.ly/3XMlKmF  \\no MongoDB Tutorial:   https://bit.ly/3DKf9ST  \\n \\n• Motivation  \\no Mechanical to Deep Learning Engineer: https://bit.ly/48lX9aR  \\n \\n \\nWeek 10: Numpy, P andas, Data Visualization        \\n \\n• Tech Skills \\no Numpy  \\n▪ numpy YouTube  playlist: https://bit.ly/3GTppa8  \\n \\n  \\n   \\ncodebasics.io  \\n \\n8 \\no Pandas , Matplotlib, Seaborn  \\n▪ Go through chapter 5 in this course (entire chapter is free):  \\nhttps://codebasics.io/courses/math -and-statistics -for-data-science  \\n \\n \\nWeek 11, 12, 13: Math & S tatistics for AI                            \\n \\n• Math and Statistics for AI',\n",
       " 'https://codebasics.io/courses/math -and-statistics -for-data-science  \\n \\n \\nWeek 11, 12, 13: Math & S tatistics for AI                            \\n \\n• Math and Statistics for AI \\no Topics to Learn  \\n▪ Basics: Descriptive vs inferential statistics , continuous vs discrete data, \\nnominal vs ordinal data  \\n▪ Linear Algebra: Vectors, Metrices, Eigenvalues and Eigenvectors  \\n▪ Calculus: Basics of integral and differential calculus  \\n▪ Basic plots: Histograms, pie charts, bar charts, scatter plot etc.  \\n▪ Measures of central tendency: mean, median, mode  \\n▪ Measures of dispersion : variance, standard deviation  \\n▪ Probability basics  \\n▪ Distributions: Normal distribution  \\n▪ Correlation and covariance  \\n▪ Central limit theorem',\n",
       " '▪ Measures of dispersion : variance, standard deviation  \\n▪ Probability basics  \\n▪ Distributions: Normal distribution  \\n▪ Correlation and covariance  \\n▪ Central limit theorem  \\n▪ Hypothesis testing: p value, confidence interval, type 1 vs type 2 error, \\nZ test  \\n \\no Learning Resources  \\n▪ Track A (Free)  \\n▪ Learn the above  topics from this excellent Khan academy course \\non statistics  and probability.  \\n▪ Course link : https://www.khanacademy.org/math/statistics -\\nprobability  \\n▪ While doing khan academy course, when you have doubts, use \\nstatquest YouTube channel:   \\nhttps://www.youtube.com/@statquest  \\n▪ Use this free YouTube playlist: https://bit.ly/3QrSXis  \\n▪ Another great youtube channel: \\nhttps://www.youtube.com/@3blue1brown  \\n \\n \\n \\n  \\n   \\ncodebasics.io  \\n \\n9',\n",
       " '▪ Use this free YouTube playlist: https://bit.ly/3QrSXis  \\n▪ Another great youtube channel: \\nhttps://www.youtube.com/@3blue1brown  \\n \\n \\n \\n  \\n   \\ncodebasics.io  \\n \\n9 \\n▪ Track B (Affordable Fees)  \\n▪ Learn the key concepts of Math and Statistics that lay the \\nfoundations for a strong data science career : \\nhttps://codebasics.io/courses/math -and-statistics -for-data-\\nscience  \\n \\n• Assignment  \\n          ☐ Finish all exercises in this playlist: https://bit.ly/3QrSXis  \\n     ☐ Finish all exercises in Khan academy course . \\n           ☐ Track B: Finish exercises and quizzes for relevant topics . \\n \\n \\nWeek 14: Exploratory Data Analysis (EDA)                             \\n \\n• Exploratory Data Analysis (EDA)  \\no Online retail analysis tutorial: https://bit.ly/420JrtT',\n",
       " 'Week 14: Exploratory Data Analysis (EDA)                             \\n \\n• Exploratory Data Analysis (EDA)  \\no Online retail analysis tutorial: https://bit.ly/420JrtT  \\no https://www.kaggle.com/code?searchQuery=exploratory+data+analysis  \\no Use the above link to search for exploratory data analysis notebooks.  \\no Practice EDA using at least 3 datasets.  \\n▪ e.g. https://www.kaggle.com/datasets/rishabhkarn/ipl -auction -\\n2023/data  \\n \\n• Assignment  \\n☐ Perform EDA (Exploratory data analysis on at least 2 additional datasets  on \\nKaggle)  \\n \\n \\nWeek 15, 16, 17, 18 : Machine Learning       \\n \\n• Machine Learning : Preprocessing  \\no Handling NA values , outlier treatment, data normalization  \\no One hot encoding, label encoding  \\no Feature engineering  \\no Train test split  \\no Cross validation',\n",
       " 'o Handling NA values , outlier treatment, data normalization  \\no One hot encoding, label encoding  \\no Feature engineering  \\no Train test split  \\no Cross validation  \\n \\n \\n  \\n   \\ncodebasics.io  \\n \\n10 \\n• Machine Learning: Model  Building  \\no Types of ML: Supervised, Unsupervised  \\no Supervised: Regression vs Classification  \\no Linear models  \\n▪ Linear regression, logistic regression  \\n▪ Gradient descent  \\no Nonlinear models ( tree-based  models)  \\n▪ Decision tree  \\n▪ Random forest  \\n▪ XGBoost  \\no Model evaluation  \\n▪ Regression: Mean Squared Error, Mean Absolute Error, MAPE  \\n▪ Classification: Accuracy, Precision -Recall, F1 Score, ROC Curve, \\nConfusion matrix  \\no Hyperparameter tunning: GridSearchCV, RandomSearchCV  \\no Unsupervised: K means, Hierarchical clustering, Dimensionality reduction',\n",
       " 'Confusion matrix  \\no Hyperparameter tunning: GridSearchCV, RandomSearchCV  \\no Unsupervised: K means, Hierarchical clustering, Dimensionality reduction \\n(PCA)  \\n \\n• Learning Resources  \\no Track  A \\n▪ YouTube playlist (more than 2 million views): https://bit.ly/3io5qqX  \\n▪ First 21 videos  \\n▪ Feature engineering playlist: https://bit.ly/3IFa3Yf  \\no Track B (Affordable Fees)  \\n▪ AI Bootcamp: https://codebasics.io/bootcamps/ai -data-science -\\nbootcamp -with-virtual -internship  \\n \\n• Core/Soft Skills  \\no Project Management  \\n▪ Scrum: https://scrumtrainingseries.com/  \\n▪ Kanban: https://youtu.be/jf0tlbt9lx0  \\n▪ Tools: JIRA, Notion  \\n \\n \\n \\n \\n \\n  \\n   \\ncodebasics.io  \\n \\n11 \\n• Assignment  \\n         ☐ Complete all exercises in ML playlist: https://bit.ly/3io5qqX',\n",
       " '▪ Kanban: https://youtu.be/jf0tlbt9lx0  \\n▪ Tools: JIRA, Notion  \\n \\n \\n \\n \\n \\n  \\n   \\ncodebasics.io  \\n \\n11 \\n• Assignment  \\n         ☐ Complete all exercises in ML playlist: https://bit.ly/3io5qqX  \\n         ☐ Work on 2 Kaggle ML notebooks  \\n         ☐ Write 2 LinkedIn posts  on whatever you have learnt in ML  \\n         ☐ Discord: Help people with at least 10 answers  \\n         ☐ Track B: Finish exercises and quizzes for relevant topics  \\n \\n \\nWeek 19: ML Ops ⚙️ \\n \\n• Topics  \\no What is ML Ops? Experiment Tracking with MLFlow  \\no What is API? FastAPI for Python server development  \\no DevOps Fundamentals: CI/CD pipelines, containerization (Docker, Kubernetes)  \\no Familiarity with at least one cloud platform (AWS, Azure etc.)  \\n \\n• Learning Resources  \\no Track  A:',\n",
       " 'o DevOps Fundamentals: CI/CD pipelines, containerization (Docker, Kubernetes)  \\no Familiarity with at least one cloud platform (AWS, Azure etc.)  \\n \\n• Learning Resources  \\no Track  A: \\n▪ What is ML Ops: https://bit.ly/3R4uGA0  \\n▪ FastAPI tutorial: https://bit.ly/497p6Ex  \\n▪ MLFlow Tutorial : https://bit.ly/497p6Ex  \\n▪ Docker Tutorial: https://bit.ly/3uCNpeE  \\no Track B (Affordable Fees):  \\n▪ AI Bootcamp: https://codebasics.io/bootcamps/ai -data-science -\\nbootcamp -with-virtual -internship  \\n \\n \\n \\nWeek 20, 21: Machine Learning Projects       \\n \\n• You need to finish two end to end ML projects. One on Regression , the other on \\nClassification  \\n \\n• Regression Project: Bangalore property price prediction  \\no YouTube playlist link: https://bit.ly/3ivycWr  \\n \\n \\n \\n  \\n   \\ncodebasics.io  \\n \\n12',\n",
       " 'Classification  \\n \\n• Regression Project: Bangalore property price prediction  \\no YouTube playlist link: https://bit.ly/3ivycWr  \\n \\n \\n \\n  \\n   \\ncodebasics.io  \\n \\n12 \\no Project covers the following  \\n▪ Data cleaning  \\n▪ Feature engineering  \\n▪ Model building and hyper parameter tuning  \\n▪ Write flask server as a web backend  \\n▪ Building website for price prediction  \\n▪ Deployment to AWS  \\n \\n• Classification Project: Log Classification System  \\no YouTube link: https://bit.ly/4hu5EoL  \\no Project covers the following  \\n▪ How to use hybrid approach (regex, BERT , Logistic Regression  and LLM) \\nfor classification)  \\n▪ DB Scan clustering  \\n▪ Building FastAPI Backend  \\n \\n• ATS Resume Preparation  \\no Resumes are dying but not dead yet. Focus more on online presence.',\n",
       " 'for classification)  \\n▪ DB Scan clustering  \\n▪ Building FastAPI Backend  \\n \\n• ATS Resume Preparation  \\no Resumes are dying but not dead yet. Focus more on online presence.  \\no Here is the resume tips video along with some templates you can use for your \\ndata analyst resume: https://www.youtube.com/watch?v=buQSI8NLOMw  \\no Use this checklist to ensure you have the right ATS Resume:  Check here.  \\n \\n• Portfolio Building Resources:  \\nYou need a portfolio website in 2024. You can build your portfolio by using these free \\nresources.  \\n• GitHub  \\no Upload your projects with code on github and using github.io create a \\nportfolio website  \\no Sample portfolio website: http://rajag0pal.github.io/  \\no Codebasics bootcamp student portfolio: \\nhttps://codebasics.io/portfolio/Rachana -Hadke',\n",
       " 'portfolio website  \\no Sample portfolio website: http://rajag0pal.github.io/  \\no Codebasics bootcamp student portfolio: \\nhttps://codebasics.io/portfolio/Rachana -Hadke  \\n \\n• Linktree  \\no Helpful to add multiple links in one page.  \\n \\n \\n \\n \\n  \\n   \\ncodebasics.io  \\n \\n13 \\n• Assignment  \\no In above two projects make following changes  \\n☐ Use FastAPI  instead of flask . FastAPI tutorial: https://youtu.be/Wr1JjhTt1Xg  \\n☐ Regression project : Instead of property prediction, take any other project \\nof your interest from Kaggle for regress ion \\n☐ Classification project : Instead of log classification , take any classification \\nproject using a Kaggle dataset and build end to end solution along with \\ndeployment to AWS or Azure  \\n     ☐ Add a link of your projects in your resume and LinkedIn.',\n",
       " 'project using a Kaggle dataset and build end to end solution along with \\ndeployment to AWS or Azure  \\n     ☐ Add a link of your projects in your resume and LinkedIn.  \\n(Tag Codebasics, Dhaval Patel and Hemanand Vadivel with the hashtag \\n#dsroadmap24 so we can engage to increase your visibility)  \\n \\n \\nWeek 22, 23, 24, 25 : Deep Learning           \\n \\n• Topics  \\no What is a neural network? Forward propagation, back propagation  \\no Building multilayer perceptron  \\no Special neural network architectures  \\n▪ Convolutional neural network (CNN)  \\n▪ Sequence models: RNN, LSTM  \\n▪ Transformers  \\n \\n• Learning Resources  \\no Track A (Free)  \\n▪ Deep Learning playlist  (tensorflow) : https://bit.ly/3vOZ3zV  \\n▪ End to end potato disease  classification project: https://bit.ly/3QzkVJi',\n",
       " '• Learning Resources  \\no Track A (Free)  \\n▪ Deep Learning playlist  (tensorflow) : https://bit.ly/3vOZ3zV  \\n▪ End to end potato disease  classification project: https://bit.ly/3QzkVJi  \\no Track B (Affordable Fees):  \\n▪ AI Bootcamp: https://codebasics.io/bootcamps/ai -data-science -\\nbootcamp -with-virtual -internship  \\n \\n• Assignment  \\n☐ Instead of potato plant images use tomato plant images or some other image \\nclassification dataset . \\n☐ Deploy to Azure instead of GCP . \\n☐ Create a presentation as if you are presenting to stakeholders and upload \\nvideo presentation on LinkedIn . \\n  \\n   \\ncodebasics.io  \\n \\n14 \\nWeek 26, 27, 28: NLP or Computer Vision   \\n \\n• Many AI engineers  choose a specialized track which is either NLP or Computer vision. \\nYou don’t need to learn both.',\n",
       " 'codebasics.io  \\n \\n14 \\nWeek 26, 27, 28: NLP or Computer Vision   \\n \\n• Many AI engineers  choose a specialized track which is either NLP or Computer vision. \\nYou don’t need to learn both.  \\n \\n• Natural Language Processing (N LP) \\no Topics  \\n▪ Regex  \\n▪ Text presentation: Count vectorizer, TF -IDF, BOW, Word2Vec, \\nEmbeddings  \\n▪ Text classification: Naïve Bayes  \\n▪ Fundamentals of Spacy & NLTP library  \\n▪ One end to end project  \\no Learning Resources  \\n▪ NLP YouTube playlist: https://bit.ly/3XnjfEZ  \\n \\n• Comput er Vision (CV)  \\no Topics  \\n▪ Basic image processing techniques: Filtering, Edge Detection, Image \\nScaling, Rotation  \\n▪ Library to use: OpenCV  \\n▪ Convolutional Neural Networks (CNN) – Already covered in deep \\nlearning.',\n",
       " '▪ Basic image processing techniques: Filtering, Edge Detection, Image \\nScaling, Rotation  \\n▪ Library to use: OpenCV  \\n▪ Convolutional Neural Networks (CNN) – Already covered in deep \\nlearning.  \\n▪ Data preprocessing, augmentation – Already covered in deep learning.  \\n \\n• Assignment  \\n☐ NLP Track: Complete exercises in this playlist: https://bit.ly/3XnjfEZ  \\n \\nWeek 29, 30: Gen AI (Including AI Agents) 📃 \\n \\n• Topics  \\no What is LLM, Vector database, Embeddings?  \\no RAG (Retrieval Augmented Generation)  \\no Langchain framework  \\no AI Agents, Agno (previously called phidata) framework  \\n \\n  \\n   \\ncodebasics.io  \\n \\n15 \\n• Learning Resources  \\no Gen AI crash  course: https://bit.ly/3Fn7Zoh  \\no AI Agents Tutorial : https://bit.ly/4io8YD5   \\n \\n \\nWeek 31, 32 : Gen AI Projects 📃 \\n \\n• Topics',\n",
       " 'codebasics.io  \\n \\n15 \\n• Learning Resources  \\no Gen AI crash  course: https://bit.ly/3Fn7Zoh  \\no AI Agents Tutorial : https://bit.ly/4io8YD5   \\n \\n \\nWeek 31, 32 : Gen AI Projects 📃 \\n \\n• Topics  \\no Projects that include using LLMs, RAG, Agents to solve real life problems  \\n• Learning Resources  \\no Gen AI project playlist : https://bit.ly/4ilzEnX  \\n \\n \\nWeek 33 onwards…                     \\n \\n• More projects          \\n• Online brand building through LinkedIn, Kaggle, Discord, Opensource contribution  \\n                                              \\n• Job application and Success         \\n \\n \\nTips of effective learning     \\n \\n• Spend less time in consuming information, more time in  \\no Digesting   \\no Implementing  \\no Sharing  \\n• Group learning',\n",
       " '• Job application and Success         \\n \\n \\nTips of effective learning     \\n \\n• Spend less time in consuming information, more time in  \\no Digesting   \\no Implementing  \\no Sharing  \\n• Group learning  \\no Use partner -and-group -finder  channel on c odebasics discord server  for \\ngroup study and hold each other accountable for the progress of your study \\nplan. Here is the discord server link : https://discord.gg/r42Kbuk']"
      ]
     },
     "execution_count": 12,
     "metadata": {},
     "output_type": "execute_result"
    }
   ],
   "source": [
    "# top 50 texts \n",
    "texts[:50]"
   ]
  },
  {
   "cell_type": "code",
   "execution_count": 13,
   "id": "3ead28b0",
   "metadata": {},
   "outputs": [
    {
     "name": "stdout",
     "output_type": "stream",
     "text": [
      "Inserted 31 headlines.\n"
     ]
    }
   ],
   "source": [
    "## Load the dataset into the vector store\n",
    "\n",
    "astra_vector_store.add_texts(texts[:50])\n",
    "\n",
    "print(\"Inserted %i headlines.\" % len(texts[:50]))\n",
    "\n",
    "astra_vector_index = VectorStoreIndexWrapper(vectorstore=astra_vector_store)\n"
   ]
  },
  {
   "cell_type": "code",
   "execution_count": null,
   "id": "5d080bcf",
   "metadata": {},
   "outputs": [
    {
     "name": "stdout",
     "output_type": "stream",
     "text": [
      "\n",
      "QUESTION: \"How many total number of weeks i need to complete all the roadmap\"\n",
      "ANSWER: \"It is not explicitly stated in the context how many total weeks are needed to complete the entire AI Engineer roadmap, as it may vary depending on the individual's pace and learning abilities. However, the total duration mentioned is 8 months, assuming a 6-day study week with 4 hours of study per day. This would roughly translate to 24 weeks. However, it is important to note that this duration is just a guideline and may vary for each individual. Additionally, the roadmap also suggests completing a few weeks of research before starting the actual learning journey. Therefore, the total number of weeks required may be more than 24.\"\n",
      "\n",
      "FIRST DOCUMENTS BY RELEVANCE:\n",
      "    [0.8970] \"codebasics.io  \n",
      " \n",
      "1 \n",
      "AI Engineer Roadmap for Beginners  \n",
      "Following is the roadmap  t ...\"\n",
      "    [0.8967] \"Total Duration: 8 Months  (4 hours  of study every day, 6 days a week ) \n",
      "Also, AI En ...\"\n",
      "    [0.8876] \"project using a Kaggle dataset and build end to end solution along with \n",
      "deployment  ...\"\n",
      "    [0.8837] \"o DevOps Fundamentals: CI/CD pipelines, containerization (Docker, Kubernetes)  \n",
      "o Fa ...\"\n"
     ]
    }
   ],
   "source": [
    "## test the vetor database\n",
    "\n",
    "first_question = True\n",
    "while True:\n",
    "    if first_question:\n",
    "        query_text = input(\"\\nEnter your question (or type 'quit' to exit): \").strip()\n",
    "    else:\n",
    "        query_text = input(\"\\nWhat's your next question (or type 'quit' to exit): \").strip()\n",
    "\n",
    "    if query_text.lower() == \"quit\":\n",
    "        break\n",
    "\n",
    "    if query_text == \"\":\n",
    "        continue\n",
    "\n",
    "    first_question = False\n",
    "\n",
    "    print(\"\\nQUESTION: \\\"%s\\\"\" % query_text)\n",
    "    answer = astra_vector_index.query(query_text, llm=llm).strip()\n",
    "    print(\"ANSWER: \\\"%s\\\"\\n\" % answer)\n",
    "\n",
    "    print(\"FIRST DOCUMENTS BY RELEVANCE:\")\n",
    "    for doc, score in astra_vector_store.similarity_search_with_score(query_text, k=4):\n",
    "        print(\"    [%0.4f] \\\"%s ...\\\"\" % (score, doc.page_content[:84])) # only first 84 characters if we increase it then it will give more output"
   ]
  },
  {
   "cell_type": "code",
   "execution_count": null,
   "id": "392a301f",
   "metadata": {},
   "outputs": [],
   "source": []
  }
 ],
 "metadata": {
  "kernelspec": {
   "display_name": "mlenv",
   "language": "python",
   "name": "python3"
  },
  "language_info": {
   "codemirror_mode": {
    "name": "ipython",
    "version": 3
   },
   "file_extension": ".py",
   "mimetype": "text/x-python",
   "name": "python",
   "nbconvert_exporter": "python",
   "pygments_lexer": "ipython3",
   "version": "3.10.16"
  }
 },
 "nbformat": 4,
 "nbformat_minor": 5
}
