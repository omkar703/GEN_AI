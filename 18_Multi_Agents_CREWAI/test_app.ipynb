{
 "cells": [
  {
   "cell_type": "code",
   "execution_count": null,
   "id": "797e61c3",
   "metadata": {},
   "outputs": [],
   "source": [
    "from crewai import Agent\n",
    "\n",
    "## Create a senior blog content researcher \n",
    "\n",
    "blog_content_researcher = Agent(\n",
    "    role = 'Blog Researcher from youtube Videos',\n",
    "    gole = 'get the relevant video content for the topic {topic} from youtube channel',\n",
    "    verbose = True,\n",
    "    memory = True,\n",
    "    backstory = (\n",
    "        \"Expert in understanding videos in AI and Data science , Machine Learning , Computer Science , and Software Engineering . \"\n",
    "    ),\n",
    "    tools = [],\n",
    "    allow_delegation = True, # transfer work to other agents\n",
    ")\n",
    "\n",
    "\n",
    "## Create a senior bolg writer agent with youtube video \n",
    "blog_writer = Agent(\n",
    "    role = 'Blog Writer from youtube Videos',\n",
    "    gole = 'write the blog content for the topic {topic} from youtube channel',\n",
    "    verbose = True,\n",
    "    memory = True,\n",
    "    backstory = (\n",
    "        \"Expert in understanding videos in AI and Data science , Machine Learning , Computer Science , and Software Engineering . \"\n",
    "    ),\n",
    "    tools = [],\n",
    "    allow_delegation = False, # transfer work to other agents\n",
    ")\n",
    "\n",
    "\n",
    "\n"
   ]
  }
 ],
 "metadata": {
  "kernelspec": {
   "display_name": "mlenv",
   "language": "python",
   "name": "python3"
  },
  "language_info": {
   "name": "python",
   "version": "3.10.16"
  }
 },
 "nbformat": 4,
 "nbformat_minor": 5
}
